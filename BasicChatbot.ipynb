{
  "nbformat": 4,
  "nbformat_minor": 0,
  "metadata": {
    "colab": {
      "name": "SmartChatbot.ipynb",
      "provenance": [],
      "authorship_tag": "ABX9TyOUZ6nagrwj8HdNTk+NwSLw",
      "include_colab_link": true
    },
    "kernelspec": {
      "name": "python3",
      "display_name": "Python 3"
    },
    "language_info": {
      "name": "python"
    }
  },
  "cells": [
    {
      "cell_type": "markdown",
      "metadata": {
        "id": "view-in-github",
        "colab_type": "text"
      },
      "source": [
        "<a href=\"https://colab.research.google.com/github/Jeli04/ChatBot/blob/main/BasicChatbot.ipynb\" target=\"_parent\"><img src=\"https://colab.research.google.com/assets/colab-badge.svg\" alt=\"Open In Colab\"/></a>"
      ]
    },
    {
      "cell_type": "code",
      "execution_count": 24,
      "metadata": {
        "id": "yDSCKWvd1Rb4",
        "colab": {
          "base_uri": "https://localhost:8080/"
        },
        "outputId": "c8cf8164-e072-4382-d821-099218c141d4"
      },
      "outputs": [
        {
          "output_type": "stream",
          "name": "stdout",
          "text": [
            "[nltk_data] Downloading package punkt to /root/nltk_data...\n",
            "[nltk_data]   Package punkt is already up-to-date!\n",
            "[nltk_data] Downloading package wordnet to /root/nltk_data...\n",
            "[nltk_data]   Package wordnet is already up-to-date!\n"
          ]
        }
      ],
      "source": [
        "import nltk\n",
        "nltk.download('punkt')\n",
        "nltk.download('wordnet')\n",
        "from nltk.stem import WordNetLemmatizer\n",
        "lemmatizer = WordNetLemmatizer()\n",
        "import json\n",
        "import pickle\n",
        "\n",
        "import numpy as np\n",
        "import tensorflow as tf\n",
        "from keras.models import Sequential\n",
        "from keras.layers import Dense, Activation, Dropout\n",
        "from keras.optimizers import gradient_descent_v2 \n",
        "import random"
      ]
    },
    {
      "cell_type": "code",
      "source": [
        "import urllib.request \n",
        "\n",
        "words = []\n",
        "classes = []\n",
        "documents = []\n",
        "ignore_words = []\n",
        "with urllib.request.urlopen(\"https://raw.githubusercontent.com/jerrytigerxu/Simple-Python-Chatbot/master/intents.json\") as url:\n",
        "    intents = json.loads(url.read().decode())\n"
      ],
      "metadata": {
        "id": "xr09liPCzBa4"
      },
      "execution_count": 25,
      "outputs": []
    },
    {
      "cell_type": "code",
      "source": [
        "for intent in intents[\"intents\"]:\n",
        "  for pattern in intent[\"patterns\"]:\n",
        "\n",
        "    # Tokenizes each word \n",
        "    word = nltk.word_tokenize(pattern)\n",
        "    words.extend(word)\n",
        "    # Adds docuements \n",
        "    documents.append((word, intent[\"tag\"]))\n",
        "\n",
        "    # Adds classes \n",
        "    if intent[\"tag\"] not in classes:\n",
        "      classes.append(intent[\"tag\"])"
      ],
      "metadata": {
        "id": "Ky8PD-KU2bQd"
      },
      "execution_count": 26,
      "outputs": []
    },
    {
      "cell_type": "markdown",
      "source": [
        "# Lemmentize\n",
        "By lemmentizing the words, they are brought to its simpliest forms \n",
        "\n",
        "ex: walking, walked, walks all become walk "
      ],
      "metadata": {
        "id": "qzBMht0A4cqX"
      }
    },
    {
      "cell_type": "code",
      "source": [
        "words = [lemmatizer.lemmatize(word.lower()) for word in words if word not in ignore_words] \n",
        "words = sorted(list(set(words)))  # Sorts the list in ascending order \n",
        "\n",
        "classes = sorted(list(set(classes)))\n",
        "\n",
        "print(len(documents), documents)\n",
        "\n",
        "print(len(classes), classes)  # Class types of phrases\n",
        "\n",
        "print(len(words), words) # num of unique words\n",
        "\n",
        "pickle.dump(words,open('words.pkl','wb'))\n",
        "pickle.dump(classes,open('classes.pkl','wb'))"
      ],
      "metadata": {
        "colab": {
          "base_uri": "https://localhost:8080/"
        },
        "id": "jsvVInF82nDd",
        "outputId": "77739631-a67c-411c-e520-9eaa4b8c9d78"
      },
      "execution_count": 27,
      "outputs": [
        {
          "output_type": "stream",
          "name": "stdout",
          "text": [
            "47 [(['Hi', 'there'], 'greeting'), (['How', 'are', 'you'], 'greeting'), (['Is', 'anyone', 'there', '?'], 'greeting'), (['Hey'], 'greeting'), (['Hola'], 'greeting'), (['Hello'], 'greeting'), (['Good', 'day'], 'greeting'), (['Bye'], 'goodbye'), (['See', 'you', 'later'], 'goodbye'), (['Goodbye'], 'goodbye'), (['Nice', 'chatting', 'to', 'you', ',', 'bye'], 'goodbye'), (['Till', 'next', 'time'], 'goodbye'), (['Thanks'], 'thanks'), (['Thank', 'you'], 'thanks'), (['That', \"'s\", 'helpful'], 'thanks'), (['Awesome', ',', 'thanks'], 'thanks'), (['Thanks', 'for', 'helping', 'me'], 'thanks'), (['How', 'you', 'could', 'help', 'me', '?'], 'options'), (['What', 'you', 'can', 'do', '?'], 'options'), (['What', 'help', 'you', 'provide', '?'], 'options'), (['How', 'you', 'can', 'be', 'helpful', '?'], 'options'), (['What', 'support', 'is', 'offered'], 'options'), (['How', 'to', 'check', 'Adverse', 'drug', 'reaction', '?'], 'adverse_drug'), (['Open', 'adverse', 'drugs', 'module'], 'adverse_drug'), (['Give', 'me', 'a', 'list', 'of', 'drugs', 'causing', 'adverse', 'behavior'], 'adverse_drug'), (['List', 'all', 'drugs', 'suitable', 'for', 'patient', 'with', 'adverse', 'reaction'], 'adverse_drug'), (['Which', 'drugs', 'dont', 'have', 'adverse', 'reaction', '?'], 'adverse_drug'), (['Open', 'blood', 'pressure', 'module'], 'blood_pressure'), (['Task', 'related', 'to', 'blood', 'pressure'], 'blood_pressure'), (['Blood', 'pressure', 'data', 'entry'], 'blood_pressure'), (['I', 'want', 'to', 'log', 'blood', 'pressure', 'results'], 'blood_pressure'), (['Blood', 'pressure', 'data', 'management'], 'blood_pressure'), (['I', 'want', 'to', 'search', 'for', 'blood', 'pressure', 'result', 'history'], 'blood_pressure_search'), (['Blood', 'pressure', 'for', 'patient'], 'blood_pressure_search'), (['Load', 'patient', 'blood', 'pressure', 'result'], 'blood_pressure_search'), (['Show', 'blood', 'pressure', 'results', 'for', 'patient'], 'blood_pressure_search'), (['Find', 'blood', 'pressure', 'results', 'by', 'ID'], 'blood_pressure_search'), (['Find', 'me', 'a', 'pharmacy'], 'pharmacy_search'), (['Find', 'pharmacy'], 'pharmacy_search'), (['List', 'of', 'pharmacies', 'nearby'], 'pharmacy_search'), (['Locate', 'pharmacy'], 'pharmacy_search'), (['Search', 'pharmacy'], 'pharmacy_search'), (['Lookup', 'for', 'hospital'], 'hospital_search'), (['Searching', 'for', 'hospital', 'to', 'transfer', 'patient'], 'hospital_search'), (['I', 'want', 'to', 'search', 'hospital', 'data'], 'hospital_search'), (['Hospital', 'lookup', 'for', 'patient'], 'hospital_search'), (['Looking', 'up', 'hospital', 'details'], 'hospital_search')]\n",
            "9 ['adverse_drug', 'blood_pressure', 'blood_pressure_search', 'goodbye', 'greeting', 'hospital_search', 'options', 'pharmacy_search', 'thanks']\n",
            "89 [\"'s\", ',', '?', 'a', 'adverse', 'all', 'anyone', 'are', 'awesome', 'be', 'behavior', 'blood', 'by', 'bye', 'can', 'causing', 'chatting', 'check', 'could', 'data', 'day', 'detail', 'do', 'dont', 'drug', 'entry', 'find', 'for', 'give', 'good', 'goodbye', 'have', 'hello', 'help', 'helpful', 'helping', 'hey', 'hi', 'history', 'hola', 'hospital', 'how', 'i', 'id', 'is', 'later', 'list', 'load', 'locate', 'log', 'looking', 'lookup', 'management', 'me', 'module', 'nearby', 'next', 'nice', 'of', 'offered', 'open', 'patient', 'pharmacy', 'pressure', 'provide', 'reaction', 'related', 'result', 'search', 'searching', 'see', 'show', 'suitable', 'support', 'task', 'thank', 'thanks', 'that', 'there', 'till', 'time', 'to', 'transfer', 'up', 'want', 'what', 'which', 'with', 'you']\n"
          ]
        }
      ]
    },
    {
      "cell_type": "code",
      "source": [
        "training = []\n",
        "output_empty = [0] * len(classes)\n",
        "for doc in documents:\n",
        "  # Bag of words \n",
        "  bag = []\n",
        "  # List of tokenized words for the pattern\n",
        "  pattern_words = doc[0]\n",
        "  # Lemmetize each word \n",
        "  pattern_words = [lemmatizer.lemmatize(word.lower()) for word in pattern_words]\n",
        "  # Adds words into our bag where 1 means word match is found in the current pattern while 0 is not \n",
        "  for w in words:\n",
        "    if word in pattern_words:\n",
        "      bag.append(1)\n",
        "    else:\n",
        "      bag.append(0)\n",
        "\n",
        "  # output is a 0 for each tag and 1 for current tag \n",
        "  output_row = list(output_empty)\n",
        "  output_row[classes.index(doc[1])] = 1\n",
        "\n",
        "  training.append([bag, output_row])\n",
        "\n",
        "print(training)\n",
        "\n",
        "# Shuffles the training data and turns into np.array\n",
        "random.shuffle(training)\n",
        "training = np.array(training)\n",
        "# Creates train and test lists \n",
        "train_x = list(training[:,0])\n",
        "train_y = list(training[:,1])\n"
      ],
      "metadata": {
        "colab": {
          "base_uri": "https://localhost:8080/"
        },
        "id": "I5XBcIWT5FQZ",
        "outputId": "dec01a7d-fd48-44b6-8fb1-73975415a06d"
      },
      "execution_count": 28,
      "outputs": [
        {
          "output_type": "stream",
          "name": "stdout",
          "text": [
            "[[[0, 0, 0, 0, 0, 0, 0, 0, 0, 0, 0, 0, 0, 0, 0, 0, 0, 0, 0, 0, 0, 0, 0, 0, 0, 0, 0, 0, 0, 0, 0, 0, 0, 0, 0, 0, 0, 0, 0, 0, 0, 0, 0, 0, 0, 0, 0, 0, 0, 0, 0, 0, 0, 0, 0, 0, 0, 0, 0, 0, 0, 0, 0, 0, 0, 0, 0, 0, 0, 0, 0, 0, 0, 0, 0, 0, 0, 0, 0, 0, 0, 0, 0, 0, 0, 0, 0, 0, 0], [0, 0, 0, 0, 1, 0, 0, 0, 0]], [[0, 0, 0, 0, 0, 0, 0, 0, 0, 0, 0, 0, 0, 0, 0, 0, 0, 0, 0, 0, 0, 0, 0, 0, 0, 0, 0, 0, 0, 0, 0, 0, 0, 0, 0, 0, 0, 0, 0, 0, 0, 0, 0, 0, 0, 0, 0, 0, 0, 0, 0, 0, 0, 0, 0, 0, 0, 0, 0, 0, 0, 0, 0, 0, 0, 0, 0, 0, 0, 0, 0, 0, 0, 0, 0, 0, 0, 0, 0, 0, 0, 0, 0, 0, 0, 0, 0, 0, 0], [0, 0, 0, 0, 1, 0, 0, 0, 0]], [[0, 0, 0, 0, 0, 0, 0, 0, 0, 0, 0, 0, 0, 0, 0, 0, 0, 0, 0, 0, 0, 0, 0, 0, 0, 0, 0, 0, 0, 0, 0, 0, 0, 0, 0, 0, 0, 0, 0, 0, 0, 0, 0, 0, 0, 0, 0, 0, 0, 0, 0, 0, 0, 0, 0, 0, 0, 0, 0, 0, 0, 0, 0, 0, 0, 0, 0, 0, 0, 0, 0, 0, 0, 0, 0, 0, 0, 0, 0, 0, 0, 0, 0, 0, 0, 0, 0, 0, 0], [0, 0, 0, 0, 1, 0, 0, 0, 0]], [[0, 0, 0, 0, 0, 0, 0, 0, 0, 0, 0, 0, 0, 0, 0, 0, 0, 0, 0, 0, 0, 0, 0, 0, 0, 0, 0, 0, 0, 0, 0, 0, 0, 0, 0, 0, 0, 0, 0, 0, 0, 0, 0, 0, 0, 0, 0, 0, 0, 0, 0, 0, 0, 0, 0, 0, 0, 0, 0, 0, 0, 0, 0, 0, 0, 0, 0, 0, 0, 0, 0, 0, 0, 0, 0, 0, 0, 0, 0, 0, 0, 0, 0, 0, 0, 0, 0, 0, 0], [0, 0, 0, 0, 1, 0, 0, 0, 0]], [[0, 0, 0, 0, 0, 0, 0, 0, 0, 0, 0, 0, 0, 0, 0, 0, 0, 0, 0, 0, 0, 0, 0, 0, 0, 0, 0, 0, 0, 0, 0, 0, 0, 0, 0, 0, 0, 0, 0, 0, 0, 0, 0, 0, 0, 0, 0, 0, 0, 0, 0, 0, 0, 0, 0, 0, 0, 0, 0, 0, 0, 0, 0, 0, 0, 0, 0, 0, 0, 0, 0, 0, 0, 0, 0, 0, 0, 0, 0, 0, 0, 0, 0, 0, 0, 0, 0, 0, 0], [0, 0, 0, 0, 1, 0, 0, 0, 0]], [[0, 0, 0, 0, 0, 0, 0, 0, 0, 0, 0, 0, 0, 0, 0, 0, 0, 0, 0, 0, 0, 0, 0, 0, 0, 0, 0, 0, 0, 0, 0, 0, 0, 0, 0, 0, 0, 0, 0, 0, 0, 0, 0, 0, 0, 0, 0, 0, 0, 0, 0, 0, 0, 0, 0, 0, 0, 0, 0, 0, 0, 0, 0, 0, 0, 0, 0, 0, 0, 0, 0, 0, 0, 0, 0, 0, 0, 0, 0, 0, 0, 0, 0, 0, 0, 0, 0, 0, 0], [0, 0, 0, 0, 1, 0, 0, 0, 0]], [[0, 0, 0, 0, 0, 0, 0, 0, 0, 0, 0, 0, 0, 0, 0, 0, 0, 0, 0, 0, 0, 0, 0, 0, 0, 0, 0, 0, 0, 0, 0, 0, 0, 0, 0, 0, 0, 0, 0, 0, 0, 0, 0, 0, 0, 0, 0, 0, 0, 0, 0, 0, 0, 0, 0, 0, 0, 0, 0, 0, 0, 0, 0, 0, 0, 0, 0, 0, 0, 0, 0, 0, 0, 0, 0, 0, 0, 0, 0, 0, 0, 0, 0, 0, 0, 0, 0, 0, 0], [0, 0, 0, 0, 1, 0, 0, 0, 0]], [[0, 0, 0, 0, 0, 0, 0, 0, 0, 0, 0, 0, 0, 0, 0, 0, 0, 0, 0, 0, 0, 0, 0, 0, 0, 0, 0, 0, 0, 0, 0, 0, 0, 0, 0, 0, 0, 0, 0, 0, 0, 0, 0, 0, 0, 0, 0, 0, 0, 0, 0, 0, 0, 0, 0, 0, 0, 0, 0, 0, 0, 0, 0, 0, 0, 0, 0, 0, 0, 0, 0, 0, 0, 0, 0, 0, 0, 0, 0, 0, 0, 0, 0, 0, 0, 0, 0, 0, 0], [0, 0, 0, 1, 0, 0, 0, 0, 0]], [[0, 0, 0, 0, 0, 0, 0, 0, 0, 0, 0, 0, 0, 0, 0, 0, 0, 0, 0, 0, 0, 0, 0, 0, 0, 0, 0, 0, 0, 0, 0, 0, 0, 0, 0, 0, 0, 0, 0, 0, 0, 0, 0, 0, 0, 0, 0, 0, 0, 0, 0, 0, 0, 0, 0, 0, 0, 0, 0, 0, 0, 0, 0, 0, 0, 0, 0, 0, 0, 0, 0, 0, 0, 0, 0, 0, 0, 0, 0, 0, 0, 0, 0, 0, 0, 0, 0, 0, 0], [0, 0, 0, 1, 0, 0, 0, 0, 0]], [[0, 0, 0, 0, 0, 0, 0, 0, 0, 0, 0, 0, 0, 0, 0, 0, 0, 0, 0, 0, 0, 0, 0, 0, 0, 0, 0, 0, 0, 0, 0, 0, 0, 0, 0, 0, 0, 0, 0, 0, 0, 0, 0, 0, 0, 0, 0, 0, 0, 0, 0, 0, 0, 0, 0, 0, 0, 0, 0, 0, 0, 0, 0, 0, 0, 0, 0, 0, 0, 0, 0, 0, 0, 0, 0, 0, 0, 0, 0, 0, 0, 0, 0, 0, 0, 0, 0, 0, 0], [0, 0, 0, 1, 0, 0, 0, 0, 0]], [[0, 0, 0, 0, 0, 0, 0, 0, 0, 0, 0, 0, 0, 0, 0, 0, 0, 0, 0, 0, 0, 0, 0, 0, 0, 0, 0, 0, 0, 0, 0, 0, 0, 0, 0, 0, 0, 0, 0, 0, 0, 0, 0, 0, 0, 0, 0, 0, 0, 0, 0, 0, 0, 0, 0, 0, 0, 0, 0, 0, 0, 0, 0, 0, 0, 0, 0, 0, 0, 0, 0, 0, 0, 0, 0, 0, 0, 0, 0, 0, 0, 0, 0, 0, 0, 0, 0, 0, 0], [0, 0, 0, 1, 0, 0, 0, 0, 0]], [[0, 0, 0, 0, 0, 0, 0, 0, 0, 0, 0, 0, 0, 0, 0, 0, 0, 0, 0, 0, 0, 0, 0, 0, 0, 0, 0, 0, 0, 0, 0, 0, 0, 0, 0, 0, 0, 0, 0, 0, 0, 0, 0, 0, 0, 0, 0, 0, 0, 0, 0, 0, 0, 0, 0, 0, 0, 0, 0, 0, 0, 0, 0, 0, 0, 0, 0, 0, 0, 0, 0, 0, 0, 0, 0, 0, 0, 0, 0, 0, 0, 0, 0, 0, 0, 0, 0, 0, 0], [0, 0, 0, 1, 0, 0, 0, 0, 0]], [[0, 0, 0, 0, 0, 0, 0, 0, 0, 0, 0, 0, 0, 0, 0, 0, 0, 0, 0, 0, 0, 0, 0, 0, 0, 0, 0, 0, 0, 0, 0, 0, 0, 0, 0, 0, 0, 0, 0, 0, 0, 0, 0, 0, 0, 0, 0, 0, 0, 0, 0, 0, 0, 0, 0, 0, 0, 0, 0, 0, 0, 0, 0, 0, 0, 0, 0, 0, 0, 0, 0, 0, 0, 0, 0, 0, 0, 0, 0, 0, 0, 0, 0, 0, 0, 0, 0, 0, 0], [0, 0, 0, 0, 0, 0, 0, 0, 1]], [[0, 0, 0, 0, 0, 0, 0, 0, 0, 0, 0, 0, 0, 0, 0, 0, 0, 0, 0, 0, 0, 0, 0, 0, 0, 0, 0, 0, 0, 0, 0, 0, 0, 0, 0, 0, 0, 0, 0, 0, 0, 0, 0, 0, 0, 0, 0, 0, 0, 0, 0, 0, 0, 0, 0, 0, 0, 0, 0, 0, 0, 0, 0, 0, 0, 0, 0, 0, 0, 0, 0, 0, 0, 0, 0, 0, 0, 0, 0, 0, 0, 0, 0, 0, 0, 0, 0, 0, 0], [0, 0, 0, 0, 0, 0, 0, 0, 1]], [[0, 0, 0, 0, 0, 0, 0, 0, 0, 0, 0, 0, 0, 0, 0, 0, 0, 0, 0, 0, 0, 0, 0, 0, 0, 0, 0, 0, 0, 0, 0, 0, 0, 0, 0, 0, 0, 0, 0, 0, 0, 0, 0, 0, 0, 0, 0, 0, 0, 0, 0, 0, 0, 0, 0, 0, 0, 0, 0, 0, 0, 0, 0, 0, 0, 0, 0, 0, 0, 0, 0, 0, 0, 0, 0, 0, 0, 0, 0, 0, 0, 0, 0, 0, 0, 0, 0, 0, 0], [0, 0, 0, 0, 0, 0, 0, 0, 1]], [[0, 0, 0, 0, 0, 0, 0, 0, 0, 0, 0, 0, 0, 0, 0, 0, 0, 0, 0, 0, 0, 0, 0, 0, 0, 0, 0, 0, 0, 0, 0, 0, 0, 0, 0, 0, 0, 0, 0, 0, 0, 0, 0, 0, 0, 0, 0, 0, 0, 0, 0, 0, 0, 0, 0, 0, 0, 0, 0, 0, 0, 0, 0, 0, 0, 0, 0, 0, 0, 0, 0, 0, 0, 0, 0, 0, 0, 0, 0, 0, 0, 0, 0, 0, 0, 0, 0, 0, 0], [0, 0, 0, 0, 0, 0, 0, 0, 1]], [[0, 0, 0, 0, 0, 0, 0, 0, 0, 0, 0, 0, 0, 0, 0, 0, 0, 0, 0, 0, 0, 0, 0, 0, 0, 0, 0, 0, 0, 0, 0, 0, 0, 0, 0, 0, 0, 0, 0, 0, 0, 0, 0, 0, 0, 0, 0, 0, 0, 0, 0, 0, 0, 0, 0, 0, 0, 0, 0, 0, 0, 0, 0, 0, 0, 0, 0, 0, 0, 0, 0, 0, 0, 0, 0, 0, 0, 0, 0, 0, 0, 0, 0, 0, 0, 0, 0, 0, 0], [0, 0, 0, 0, 0, 0, 0, 0, 1]], [[0, 0, 0, 0, 0, 0, 0, 0, 0, 0, 0, 0, 0, 0, 0, 0, 0, 0, 0, 0, 0, 0, 0, 0, 0, 0, 0, 0, 0, 0, 0, 0, 0, 0, 0, 0, 0, 0, 0, 0, 0, 0, 0, 0, 0, 0, 0, 0, 0, 0, 0, 0, 0, 0, 0, 0, 0, 0, 0, 0, 0, 0, 0, 0, 0, 0, 0, 0, 0, 0, 0, 0, 0, 0, 0, 0, 0, 0, 0, 0, 0, 0, 0, 0, 0, 0, 0, 0, 0], [0, 0, 0, 0, 0, 0, 1, 0, 0]], [[0, 0, 0, 0, 0, 0, 0, 0, 0, 0, 0, 0, 0, 0, 0, 0, 0, 0, 0, 0, 0, 0, 0, 0, 0, 0, 0, 0, 0, 0, 0, 0, 0, 0, 0, 0, 0, 0, 0, 0, 0, 0, 0, 0, 0, 0, 0, 0, 0, 0, 0, 0, 0, 0, 0, 0, 0, 0, 0, 0, 0, 0, 0, 0, 0, 0, 0, 0, 0, 0, 0, 0, 0, 0, 0, 0, 0, 0, 0, 0, 0, 0, 0, 0, 0, 0, 0, 0, 0], [0, 0, 0, 0, 0, 0, 1, 0, 0]], [[0, 0, 0, 0, 0, 0, 0, 0, 0, 0, 0, 0, 0, 0, 0, 0, 0, 0, 0, 0, 0, 0, 0, 0, 0, 0, 0, 0, 0, 0, 0, 0, 0, 0, 0, 0, 0, 0, 0, 0, 0, 0, 0, 0, 0, 0, 0, 0, 0, 0, 0, 0, 0, 0, 0, 0, 0, 0, 0, 0, 0, 0, 0, 0, 0, 0, 0, 0, 0, 0, 0, 0, 0, 0, 0, 0, 0, 0, 0, 0, 0, 0, 0, 0, 0, 0, 0, 0, 0], [0, 0, 0, 0, 0, 0, 1, 0, 0]], [[0, 0, 0, 0, 0, 0, 0, 0, 0, 0, 0, 0, 0, 0, 0, 0, 0, 0, 0, 0, 0, 0, 0, 0, 0, 0, 0, 0, 0, 0, 0, 0, 0, 0, 0, 0, 0, 0, 0, 0, 0, 0, 0, 0, 0, 0, 0, 0, 0, 0, 0, 0, 0, 0, 0, 0, 0, 0, 0, 0, 0, 0, 0, 0, 0, 0, 0, 0, 0, 0, 0, 0, 0, 0, 0, 0, 0, 0, 0, 0, 0, 0, 0, 0, 0, 0, 0, 0, 0], [0, 0, 0, 0, 0, 0, 1, 0, 0]], [[0, 0, 0, 0, 0, 0, 0, 0, 0, 0, 0, 0, 0, 0, 0, 0, 0, 0, 0, 0, 0, 0, 0, 0, 0, 0, 0, 0, 0, 0, 0, 0, 0, 0, 0, 0, 0, 0, 0, 0, 0, 0, 0, 0, 0, 0, 0, 0, 0, 0, 0, 0, 0, 0, 0, 0, 0, 0, 0, 0, 0, 0, 0, 0, 0, 0, 0, 0, 0, 0, 0, 0, 0, 0, 0, 0, 0, 0, 0, 0, 0, 0, 0, 0, 0, 0, 0, 0, 0], [0, 0, 0, 0, 0, 0, 1, 0, 0]], [[0, 0, 0, 0, 0, 0, 0, 0, 0, 0, 0, 0, 0, 0, 0, 0, 0, 0, 0, 0, 0, 0, 0, 0, 0, 0, 0, 0, 0, 0, 0, 0, 0, 0, 0, 0, 0, 0, 0, 0, 0, 0, 0, 0, 0, 0, 0, 0, 0, 0, 0, 0, 0, 0, 0, 0, 0, 0, 0, 0, 0, 0, 0, 0, 0, 0, 0, 0, 0, 0, 0, 0, 0, 0, 0, 0, 0, 0, 0, 0, 0, 0, 0, 0, 0, 0, 0, 0, 0], [1, 0, 0, 0, 0, 0, 0, 0, 0]], [[0, 0, 0, 0, 0, 0, 0, 0, 0, 0, 0, 0, 0, 0, 0, 0, 0, 0, 0, 0, 0, 0, 0, 0, 0, 0, 0, 0, 0, 0, 0, 0, 0, 0, 0, 0, 0, 0, 0, 0, 0, 0, 0, 0, 0, 0, 0, 0, 0, 0, 0, 0, 0, 0, 0, 0, 0, 0, 0, 0, 0, 0, 0, 0, 0, 0, 0, 0, 0, 0, 0, 0, 0, 0, 0, 0, 0, 0, 0, 0, 0, 0, 0, 0, 0, 0, 0, 0, 0], [1, 0, 0, 0, 0, 0, 0, 0, 0]], [[0, 0, 0, 0, 0, 0, 0, 0, 0, 0, 0, 0, 0, 0, 0, 0, 0, 0, 0, 0, 0, 0, 0, 0, 0, 0, 0, 0, 0, 0, 0, 0, 0, 0, 0, 0, 0, 0, 0, 0, 0, 0, 0, 0, 0, 0, 0, 0, 0, 0, 0, 0, 0, 0, 0, 0, 0, 0, 0, 0, 0, 0, 0, 0, 0, 0, 0, 0, 0, 0, 0, 0, 0, 0, 0, 0, 0, 0, 0, 0, 0, 0, 0, 0, 0, 0, 0, 0, 0], [1, 0, 0, 0, 0, 0, 0, 0, 0]], [[0, 0, 0, 0, 0, 0, 0, 0, 0, 0, 0, 0, 0, 0, 0, 0, 0, 0, 0, 0, 0, 0, 0, 0, 0, 0, 0, 0, 0, 0, 0, 0, 0, 0, 0, 0, 0, 0, 0, 0, 0, 0, 0, 0, 0, 0, 0, 0, 0, 0, 0, 0, 0, 0, 0, 0, 0, 0, 0, 0, 0, 0, 0, 0, 0, 0, 0, 0, 0, 0, 0, 0, 0, 0, 0, 0, 0, 0, 0, 0, 0, 0, 0, 0, 0, 0, 0, 0, 0], [1, 0, 0, 0, 0, 0, 0, 0, 0]], [[0, 0, 0, 0, 0, 0, 0, 0, 0, 0, 0, 0, 0, 0, 0, 0, 0, 0, 0, 0, 0, 0, 0, 0, 0, 0, 0, 0, 0, 0, 0, 0, 0, 0, 0, 0, 0, 0, 0, 0, 0, 0, 0, 0, 0, 0, 0, 0, 0, 0, 0, 0, 0, 0, 0, 0, 0, 0, 0, 0, 0, 0, 0, 0, 0, 0, 0, 0, 0, 0, 0, 0, 0, 0, 0, 0, 0, 0, 0, 0, 0, 0, 0, 0, 0, 0, 0, 0, 0], [1, 0, 0, 0, 0, 0, 0, 0, 0]], [[0, 0, 0, 0, 0, 0, 0, 0, 0, 0, 0, 0, 0, 0, 0, 0, 0, 0, 0, 0, 0, 0, 0, 0, 0, 0, 0, 0, 0, 0, 0, 0, 0, 0, 0, 0, 0, 0, 0, 0, 0, 0, 0, 0, 0, 0, 0, 0, 0, 0, 0, 0, 0, 0, 0, 0, 0, 0, 0, 0, 0, 0, 0, 0, 0, 0, 0, 0, 0, 0, 0, 0, 0, 0, 0, 0, 0, 0, 0, 0, 0, 0, 0, 0, 0, 0, 0, 0, 0], [0, 1, 0, 0, 0, 0, 0, 0, 0]], [[0, 0, 0, 0, 0, 0, 0, 0, 0, 0, 0, 0, 0, 0, 0, 0, 0, 0, 0, 0, 0, 0, 0, 0, 0, 0, 0, 0, 0, 0, 0, 0, 0, 0, 0, 0, 0, 0, 0, 0, 0, 0, 0, 0, 0, 0, 0, 0, 0, 0, 0, 0, 0, 0, 0, 0, 0, 0, 0, 0, 0, 0, 0, 0, 0, 0, 0, 0, 0, 0, 0, 0, 0, 0, 0, 0, 0, 0, 0, 0, 0, 0, 0, 0, 0, 0, 0, 0, 0], [0, 1, 0, 0, 0, 0, 0, 0, 0]], [[0, 0, 0, 0, 0, 0, 0, 0, 0, 0, 0, 0, 0, 0, 0, 0, 0, 0, 0, 0, 0, 0, 0, 0, 0, 0, 0, 0, 0, 0, 0, 0, 0, 0, 0, 0, 0, 0, 0, 0, 0, 0, 0, 0, 0, 0, 0, 0, 0, 0, 0, 0, 0, 0, 0, 0, 0, 0, 0, 0, 0, 0, 0, 0, 0, 0, 0, 0, 0, 0, 0, 0, 0, 0, 0, 0, 0, 0, 0, 0, 0, 0, 0, 0, 0, 0, 0, 0, 0], [0, 1, 0, 0, 0, 0, 0, 0, 0]], [[0, 0, 0, 0, 0, 0, 0, 0, 0, 0, 0, 0, 0, 0, 0, 0, 0, 0, 0, 0, 0, 0, 0, 0, 0, 0, 0, 0, 0, 0, 0, 0, 0, 0, 0, 0, 0, 0, 0, 0, 0, 0, 0, 0, 0, 0, 0, 0, 0, 0, 0, 0, 0, 0, 0, 0, 0, 0, 0, 0, 0, 0, 0, 0, 0, 0, 0, 0, 0, 0, 0, 0, 0, 0, 0, 0, 0, 0, 0, 0, 0, 0, 0, 0, 0, 0, 0, 0, 0], [0, 1, 0, 0, 0, 0, 0, 0, 0]], [[0, 0, 0, 0, 0, 0, 0, 0, 0, 0, 0, 0, 0, 0, 0, 0, 0, 0, 0, 0, 0, 0, 0, 0, 0, 0, 0, 0, 0, 0, 0, 0, 0, 0, 0, 0, 0, 0, 0, 0, 0, 0, 0, 0, 0, 0, 0, 0, 0, 0, 0, 0, 0, 0, 0, 0, 0, 0, 0, 0, 0, 0, 0, 0, 0, 0, 0, 0, 0, 0, 0, 0, 0, 0, 0, 0, 0, 0, 0, 0, 0, 0, 0, 0, 0, 0, 0, 0, 0], [0, 1, 0, 0, 0, 0, 0, 0, 0]], [[0, 0, 0, 0, 0, 0, 0, 0, 0, 0, 0, 0, 0, 0, 0, 0, 0, 0, 0, 0, 0, 0, 0, 0, 0, 0, 0, 0, 0, 0, 0, 0, 0, 0, 0, 0, 0, 0, 0, 0, 0, 0, 0, 0, 0, 0, 0, 0, 0, 0, 0, 0, 0, 0, 0, 0, 0, 0, 0, 0, 0, 0, 0, 0, 0, 0, 0, 0, 0, 0, 0, 0, 0, 0, 0, 0, 0, 0, 0, 0, 0, 0, 0, 0, 0, 0, 0, 0, 0], [0, 0, 1, 0, 0, 0, 0, 0, 0]], [[0, 0, 0, 0, 0, 0, 0, 0, 0, 0, 0, 0, 0, 0, 0, 0, 0, 0, 0, 0, 0, 0, 0, 0, 0, 0, 0, 0, 0, 0, 0, 0, 0, 0, 0, 0, 0, 0, 0, 0, 0, 0, 0, 0, 0, 0, 0, 0, 0, 0, 0, 0, 0, 0, 0, 0, 0, 0, 0, 0, 0, 0, 0, 0, 0, 0, 0, 0, 0, 0, 0, 0, 0, 0, 0, 0, 0, 0, 0, 0, 0, 0, 0, 0, 0, 0, 0, 0, 0], [0, 0, 1, 0, 0, 0, 0, 0, 0]], [[0, 0, 0, 0, 0, 0, 0, 0, 0, 0, 0, 0, 0, 0, 0, 0, 0, 0, 0, 0, 0, 0, 0, 0, 0, 0, 0, 0, 0, 0, 0, 0, 0, 0, 0, 0, 0, 0, 0, 0, 0, 0, 0, 0, 0, 0, 0, 0, 0, 0, 0, 0, 0, 0, 0, 0, 0, 0, 0, 0, 0, 0, 0, 0, 0, 0, 0, 0, 0, 0, 0, 0, 0, 0, 0, 0, 0, 0, 0, 0, 0, 0, 0, 0, 0, 0, 0, 0, 0], [0, 0, 1, 0, 0, 0, 0, 0, 0]], [[0, 0, 0, 0, 0, 0, 0, 0, 0, 0, 0, 0, 0, 0, 0, 0, 0, 0, 0, 0, 0, 0, 0, 0, 0, 0, 0, 0, 0, 0, 0, 0, 0, 0, 0, 0, 0, 0, 0, 0, 0, 0, 0, 0, 0, 0, 0, 0, 0, 0, 0, 0, 0, 0, 0, 0, 0, 0, 0, 0, 0, 0, 0, 0, 0, 0, 0, 0, 0, 0, 0, 0, 0, 0, 0, 0, 0, 0, 0, 0, 0, 0, 0, 0, 0, 0, 0, 0, 0], [0, 0, 1, 0, 0, 0, 0, 0, 0]], [[0, 0, 0, 0, 0, 0, 0, 0, 0, 0, 0, 0, 0, 0, 0, 0, 0, 0, 0, 0, 0, 0, 0, 0, 0, 0, 0, 0, 0, 0, 0, 0, 0, 0, 0, 0, 0, 0, 0, 0, 0, 0, 0, 0, 0, 0, 0, 0, 0, 0, 0, 0, 0, 0, 0, 0, 0, 0, 0, 0, 0, 0, 0, 0, 0, 0, 0, 0, 0, 0, 0, 0, 0, 0, 0, 0, 0, 0, 0, 0, 0, 0, 0, 0, 0, 0, 0, 0, 0], [0, 0, 1, 0, 0, 0, 0, 0, 0]], [[0, 0, 0, 0, 0, 0, 0, 0, 0, 0, 0, 0, 0, 0, 0, 0, 0, 0, 0, 0, 0, 0, 0, 0, 0, 0, 0, 0, 0, 0, 0, 0, 0, 0, 0, 0, 0, 0, 0, 0, 0, 0, 0, 0, 0, 0, 0, 0, 0, 0, 0, 0, 0, 0, 0, 0, 0, 0, 0, 0, 0, 0, 0, 0, 0, 0, 0, 0, 0, 0, 0, 0, 0, 0, 0, 0, 0, 0, 0, 0, 0, 0, 0, 0, 0, 0, 0, 0, 0], [0, 0, 0, 0, 0, 0, 0, 1, 0]], [[0, 0, 0, 0, 0, 0, 0, 0, 0, 0, 0, 0, 0, 0, 0, 0, 0, 0, 0, 0, 0, 0, 0, 0, 0, 0, 0, 0, 0, 0, 0, 0, 0, 0, 0, 0, 0, 0, 0, 0, 0, 0, 0, 0, 0, 0, 0, 0, 0, 0, 0, 0, 0, 0, 0, 0, 0, 0, 0, 0, 0, 0, 0, 0, 0, 0, 0, 0, 0, 0, 0, 0, 0, 0, 0, 0, 0, 0, 0, 0, 0, 0, 0, 0, 0, 0, 0, 0, 0], [0, 0, 0, 0, 0, 0, 0, 1, 0]], [[0, 0, 0, 0, 0, 0, 0, 0, 0, 0, 0, 0, 0, 0, 0, 0, 0, 0, 0, 0, 0, 0, 0, 0, 0, 0, 0, 0, 0, 0, 0, 0, 0, 0, 0, 0, 0, 0, 0, 0, 0, 0, 0, 0, 0, 0, 0, 0, 0, 0, 0, 0, 0, 0, 0, 0, 0, 0, 0, 0, 0, 0, 0, 0, 0, 0, 0, 0, 0, 0, 0, 0, 0, 0, 0, 0, 0, 0, 0, 0, 0, 0, 0, 0, 0, 0, 0, 0, 0], [0, 0, 0, 0, 0, 0, 0, 1, 0]], [[0, 0, 0, 0, 0, 0, 0, 0, 0, 0, 0, 0, 0, 0, 0, 0, 0, 0, 0, 0, 0, 0, 0, 0, 0, 0, 0, 0, 0, 0, 0, 0, 0, 0, 0, 0, 0, 0, 0, 0, 0, 0, 0, 0, 0, 0, 0, 0, 0, 0, 0, 0, 0, 0, 0, 0, 0, 0, 0, 0, 0, 0, 0, 0, 0, 0, 0, 0, 0, 0, 0, 0, 0, 0, 0, 0, 0, 0, 0, 0, 0, 0, 0, 0, 0, 0, 0, 0, 0], [0, 0, 0, 0, 0, 0, 0, 1, 0]], [[0, 0, 0, 0, 0, 0, 0, 0, 0, 0, 0, 0, 0, 0, 0, 0, 0, 0, 0, 0, 0, 0, 0, 0, 0, 0, 0, 0, 0, 0, 0, 0, 0, 0, 0, 0, 0, 0, 0, 0, 0, 0, 0, 0, 0, 0, 0, 0, 0, 0, 0, 0, 0, 0, 0, 0, 0, 0, 0, 0, 0, 0, 0, 0, 0, 0, 0, 0, 0, 0, 0, 0, 0, 0, 0, 0, 0, 0, 0, 0, 0, 0, 0, 0, 0, 0, 0, 0, 0], [0, 0, 0, 0, 0, 0, 0, 1, 0]], [[0, 0, 0, 0, 0, 0, 0, 0, 0, 0, 0, 0, 0, 0, 0, 0, 0, 0, 0, 0, 0, 0, 0, 0, 0, 0, 0, 0, 0, 0, 0, 0, 0, 0, 0, 0, 0, 0, 0, 0, 0, 0, 0, 0, 0, 0, 0, 0, 0, 0, 0, 0, 0, 0, 0, 0, 0, 0, 0, 0, 0, 0, 0, 0, 0, 0, 0, 0, 0, 0, 0, 0, 0, 0, 0, 0, 0, 0, 0, 0, 0, 0, 0, 0, 0, 0, 0, 0, 0], [0, 0, 0, 0, 0, 1, 0, 0, 0]], [[0, 0, 0, 0, 0, 0, 0, 0, 0, 0, 0, 0, 0, 0, 0, 0, 0, 0, 0, 0, 0, 0, 0, 0, 0, 0, 0, 0, 0, 0, 0, 0, 0, 0, 0, 0, 0, 0, 0, 0, 0, 0, 0, 0, 0, 0, 0, 0, 0, 0, 0, 0, 0, 0, 0, 0, 0, 0, 0, 0, 0, 0, 0, 0, 0, 0, 0, 0, 0, 0, 0, 0, 0, 0, 0, 0, 0, 0, 0, 0, 0, 0, 0, 0, 0, 0, 0, 0, 0], [0, 0, 0, 0, 0, 1, 0, 0, 0]], [[0, 0, 0, 0, 0, 0, 0, 0, 0, 0, 0, 0, 0, 0, 0, 0, 0, 0, 0, 0, 0, 0, 0, 0, 0, 0, 0, 0, 0, 0, 0, 0, 0, 0, 0, 0, 0, 0, 0, 0, 0, 0, 0, 0, 0, 0, 0, 0, 0, 0, 0, 0, 0, 0, 0, 0, 0, 0, 0, 0, 0, 0, 0, 0, 0, 0, 0, 0, 0, 0, 0, 0, 0, 0, 0, 0, 0, 0, 0, 0, 0, 0, 0, 0, 0, 0, 0, 0, 0], [0, 0, 0, 0, 0, 1, 0, 0, 0]], [[0, 0, 0, 0, 0, 0, 0, 0, 0, 0, 0, 0, 0, 0, 0, 0, 0, 0, 0, 0, 0, 0, 0, 0, 0, 0, 0, 0, 0, 0, 0, 0, 0, 0, 0, 0, 0, 0, 0, 0, 0, 0, 0, 0, 0, 0, 0, 0, 0, 0, 0, 0, 0, 0, 0, 0, 0, 0, 0, 0, 0, 0, 0, 0, 0, 0, 0, 0, 0, 0, 0, 0, 0, 0, 0, 0, 0, 0, 0, 0, 0, 0, 0, 0, 0, 0, 0, 0, 0], [0, 0, 0, 0, 0, 1, 0, 0, 0]], [[0, 0, 0, 0, 0, 0, 0, 0, 0, 0, 0, 0, 0, 0, 0, 0, 0, 0, 0, 0, 0, 0, 0, 0, 0, 0, 0, 0, 0, 0, 0, 0, 0, 0, 0, 0, 0, 0, 0, 0, 0, 0, 0, 0, 0, 0, 0, 0, 0, 0, 0, 0, 0, 0, 0, 0, 0, 0, 0, 0, 0, 0, 0, 0, 0, 0, 0, 0, 0, 0, 0, 0, 0, 0, 0, 0, 0, 0, 0, 0, 0, 0, 0, 0, 0, 0, 0, 0, 0], [0, 0, 0, 0, 0, 1, 0, 0, 0]]]\n"
          ]
        },
        {
          "output_type": "stream",
          "name": "stderr",
          "text": [
            "/usr/local/lib/python3.7/dist-packages/ipykernel_launcher.py:27: VisibleDeprecationWarning: Creating an ndarray from ragged nested sequences (which is a list-or-tuple of lists-or-tuples-or ndarrays with different lengths or shapes) is deprecated. If you meant to do this, you must specify 'dtype=object' when creating the ndarray\n"
          ]
        }
      ]
    },
    {
      "cell_type": "code",
      "source": [
        "# Creates a model with: First layer 128 neurons, Second layer 64 neurons, and 3rd output layer \n",
        "# equal to the number of intents to predict output layer intent with softmax\n",
        "model = Sequential([Dense(128, input_shape =(len(train_x[0]),), activation = \"relu\"),\n",
        "                    Dropout(0.5),\n",
        "                    Dense(64, activation = \"relu\"),\n",
        "                    Dropout(0.5),\n",
        "                    Dense(len(train_y[0]), activation = \"softmax\")\n",
        "])\n",
        "\n",
        "sgd = tf.keras.optimizers.SGD(lr=0.01, decay = 1e-6, momentum = 0.9, nesterov = True)\n",
        "model.compile(loss=\"categorical_crossentropy\", optimizer = sgd, metrics=[\"accuracy\"])\n",
        "\n",
        "# Fitting and saving the model\n",
        "hist = model.fit(np.array(train_x), np.array(train_y), epochs = 200, batch_size = 5, verbose = 1)\n"
      ],
      "metadata": {
        "colab": {
          "base_uri": "https://localhost:8080/"
        },
        "id": "nwT8fTLA9AB_",
        "outputId": "2ac445e9-6195-45fd-8b03-083da4413eef"
      },
      "execution_count": 29,
      "outputs": [
        {
          "output_type": "stream",
          "name": "stdout",
          "text": [
            "Epoch 1/200\n"
          ]
        },
        {
          "output_type": "stream",
          "name": "stderr",
          "text": [
            "/usr/local/lib/python3.7/dist-packages/keras/optimizer_v2/gradient_descent.py:102: UserWarning: The `lr` argument is deprecated, use `learning_rate` instead.\n",
            "  super(SGD, self).__init__(name, **kwargs)\n"
          ]
        },
        {
          "output_type": "stream",
          "name": "stdout",
          "text": [
            "10/10 [==============================] - 0s 2ms/step - loss: 2.1999 - accuracy: 0.0426\n",
            "Epoch 2/200\n",
            "10/10 [==============================] - 0s 3ms/step - loss: 2.1988 - accuracy: 0.1489\n",
            "Epoch 3/200\n",
            "10/10 [==============================] - 0s 2ms/step - loss: 2.1989 - accuracy: 0.1489\n",
            "Epoch 4/200\n",
            "10/10 [==============================] - 0s 2ms/step - loss: 2.1974 - accuracy: 0.1489\n",
            "Epoch 5/200\n",
            "10/10 [==============================] - 0s 2ms/step - loss: 2.1983 - accuracy: 0.1489\n",
            "Epoch 6/200\n",
            "10/10 [==============================] - 0s 4ms/step - loss: 2.1957 - accuracy: 0.1489\n",
            "Epoch 7/200\n",
            "10/10 [==============================] - 0s 2ms/step - loss: 2.1949 - accuracy: 0.1489\n",
            "Epoch 8/200\n",
            "10/10 [==============================] - 0s 3ms/step - loss: 2.1942 - accuracy: 0.1489\n",
            "Epoch 9/200\n",
            "10/10 [==============================] - 0s 2ms/step - loss: 2.1946 - accuracy: 0.1489\n",
            "Epoch 10/200\n",
            "10/10 [==============================] - 0s 2ms/step - loss: 2.1942 - accuracy: 0.1489\n",
            "Epoch 11/200\n",
            "10/10 [==============================] - 0s 2ms/step - loss: 2.1941 - accuracy: 0.1489\n",
            "Epoch 12/200\n",
            "10/10 [==============================] - 0s 2ms/step - loss: 2.1944 - accuracy: 0.1489\n",
            "Epoch 13/200\n",
            "10/10 [==============================] - 0s 3ms/step - loss: 2.1942 - accuracy: 0.1489\n",
            "Epoch 14/200\n",
            "10/10 [==============================] - 0s 2ms/step - loss: 2.1978 - accuracy: 0.1489\n",
            "Epoch 15/200\n",
            "10/10 [==============================] - 0s 2ms/step - loss: 2.1955 - accuracy: 0.1489\n",
            "Epoch 16/200\n",
            "10/10 [==============================] - 0s 3ms/step - loss: 2.1930 - accuracy: 0.1489\n",
            "Epoch 17/200\n",
            "10/10 [==============================] - 0s 3ms/step - loss: 2.1926 - accuracy: 0.1489\n",
            "Epoch 18/200\n",
            "10/10 [==============================] - 0s 3ms/step - loss: 2.1953 - accuracy: 0.1489\n",
            "Epoch 19/200\n",
            "10/10 [==============================] - 0s 2ms/step - loss: 2.1938 - accuracy: 0.1489\n",
            "Epoch 20/200\n",
            "10/10 [==============================] - 0s 4ms/step - loss: 2.1933 - accuracy: 0.1489\n",
            "Epoch 21/200\n",
            "10/10 [==============================] - 0s 3ms/step - loss: 2.1936 - accuracy: 0.1489\n",
            "Epoch 22/200\n",
            "10/10 [==============================] - 0s 2ms/step - loss: 2.1935 - accuracy: 0.1489\n",
            "Epoch 23/200\n",
            "10/10 [==============================] - 0s 3ms/step - loss: 2.1938 - accuracy: 0.1489\n",
            "Epoch 24/200\n",
            "10/10 [==============================] - 0s 2ms/step - loss: 2.1939 - accuracy: 0.1489\n",
            "Epoch 25/200\n",
            "10/10 [==============================] - 0s 3ms/step - loss: 2.1935 - accuracy: 0.1489\n",
            "Epoch 26/200\n",
            "10/10 [==============================] - 0s 4ms/step - loss: 2.1934 - accuracy: 0.1489\n",
            "Epoch 27/200\n",
            "10/10 [==============================] - 0s 3ms/step - loss: 2.1938 - accuracy: 0.1489\n",
            "Epoch 28/200\n",
            "10/10 [==============================] - 0s 2ms/step - loss: 2.1950 - accuracy: 0.1489\n",
            "Epoch 29/200\n",
            "10/10 [==============================] - 0s 2ms/step - loss: 2.1929 - accuracy: 0.1489\n",
            "Epoch 30/200\n",
            "10/10 [==============================] - 0s 3ms/step - loss: 2.1945 - accuracy: 0.1489\n",
            "Epoch 31/200\n",
            "10/10 [==============================] - 0s 2ms/step - loss: 2.1930 - accuracy: 0.1489\n",
            "Epoch 32/200\n",
            "10/10 [==============================] - 0s 2ms/step - loss: 2.1938 - accuracy: 0.1489\n",
            "Epoch 33/200\n",
            "10/10 [==============================] - 0s 2ms/step - loss: 2.1939 - accuracy: 0.1489\n",
            "Epoch 34/200\n",
            "10/10 [==============================] - 0s 3ms/step - loss: 2.1934 - accuracy: 0.1489\n",
            "Epoch 35/200\n",
            "10/10 [==============================] - 0s 2ms/step - loss: 2.1937 - accuracy: 0.1489\n",
            "Epoch 36/200\n",
            "10/10 [==============================] - 0s 3ms/step - loss: 2.1937 - accuracy: 0.1489\n",
            "Epoch 37/200\n",
            "10/10 [==============================] - 0s 3ms/step - loss: 2.1946 - accuracy: 0.1489\n",
            "Epoch 38/200\n",
            "10/10 [==============================] - 0s 2ms/step - loss: 2.1940 - accuracy: 0.1489\n",
            "Epoch 39/200\n",
            "10/10 [==============================] - 0s 3ms/step - loss: 2.1937 - accuracy: 0.1489\n",
            "Epoch 40/200\n",
            "10/10 [==============================] - 0s 2ms/step - loss: 2.1962 - accuracy: 0.1489\n",
            "Epoch 41/200\n",
            "10/10 [==============================] - 0s 2ms/step - loss: 2.1933 - accuracy: 0.1489\n",
            "Epoch 42/200\n",
            "10/10 [==============================] - 0s 2ms/step - loss: 2.1948 - accuracy: 0.1489\n",
            "Epoch 43/200\n",
            "10/10 [==============================] - 0s 3ms/step - loss: 2.1943 - accuracy: 0.1489\n",
            "Epoch 44/200\n",
            "10/10 [==============================] - 0s 3ms/step - loss: 2.1937 - accuracy: 0.1489\n",
            "Epoch 45/200\n",
            "10/10 [==============================] - 0s 2ms/step - loss: 2.1952 - accuracy: 0.1489\n",
            "Epoch 46/200\n",
            "10/10 [==============================] - 0s 2ms/step - loss: 2.1941 - accuracy: 0.1489\n",
            "Epoch 47/200\n",
            "10/10 [==============================] - 0s 2ms/step - loss: 2.1947 - accuracy: 0.1489\n",
            "Epoch 48/200\n",
            "10/10 [==============================] - 0s 3ms/step - loss: 2.1941 - accuracy: 0.1489\n",
            "Epoch 49/200\n",
            "10/10 [==============================] - 0s 2ms/step - loss: 2.1944 - accuracy: 0.1489\n",
            "Epoch 50/200\n",
            "10/10 [==============================] - 0s 3ms/step - loss: 2.1942 - accuracy: 0.1489\n",
            "Epoch 51/200\n",
            "10/10 [==============================] - 0s 3ms/step - loss: 2.1943 - accuracy: 0.1489\n",
            "Epoch 52/200\n",
            "10/10 [==============================] - 0s 2ms/step - loss: 2.1951 - accuracy: 0.1489\n",
            "Epoch 53/200\n",
            "10/10 [==============================] - 0s 3ms/step - loss: 2.1937 - accuracy: 0.1489\n",
            "Epoch 54/200\n",
            "10/10 [==============================] - 0s 3ms/step - loss: 2.1926 - accuracy: 0.1489\n",
            "Epoch 55/200\n",
            "10/10 [==============================] - 0s 2ms/step - loss: 2.1935 - accuracy: 0.1489\n",
            "Epoch 56/200\n",
            "10/10 [==============================] - 0s 3ms/step - loss: 2.1935 - accuracy: 0.1489\n",
            "Epoch 57/200\n",
            "10/10 [==============================] - 0s 3ms/step - loss: 2.1943 - accuracy: 0.1489\n",
            "Epoch 58/200\n",
            "10/10 [==============================] - 0s 2ms/step - loss: 2.1963 - accuracy: 0.1489\n",
            "Epoch 59/200\n",
            "10/10 [==============================] - 0s 2ms/step - loss: 2.1940 - accuracy: 0.1489\n",
            "Epoch 60/200\n",
            "10/10 [==============================] - 0s 3ms/step - loss: 2.1939 - accuracy: 0.1489\n",
            "Epoch 61/200\n",
            "10/10 [==============================] - 0s 2ms/step - loss: 2.1941 - accuracy: 0.1489\n",
            "Epoch 62/200\n",
            "10/10 [==============================] - 0s 3ms/step - loss: 2.1945 - accuracy: 0.1489\n",
            "Epoch 63/200\n",
            "10/10 [==============================] - 0s 3ms/step - loss: 2.1946 - accuracy: 0.1489\n",
            "Epoch 64/200\n",
            "10/10 [==============================] - 0s 3ms/step - loss: 2.1959 - accuracy: 0.1489\n",
            "Epoch 65/200\n",
            "10/10 [==============================] - 0s 3ms/step - loss: 2.1936 - accuracy: 0.1489\n",
            "Epoch 66/200\n",
            "10/10 [==============================] - 0s 2ms/step - loss: 2.1954 - accuracy: 0.1489\n",
            "Epoch 67/200\n",
            "10/10 [==============================] - 0s 3ms/step - loss: 2.1936 - accuracy: 0.1489\n",
            "Epoch 68/200\n",
            "10/10 [==============================] - 0s 2ms/step - loss: 2.1930 - accuracy: 0.1489\n",
            "Epoch 69/200\n",
            "10/10 [==============================] - 0s 2ms/step - loss: 2.1939 - accuracy: 0.1489\n",
            "Epoch 70/200\n",
            "10/10 [==============================] - 0s 2ms/step - loss: 2.1946 - accuracy: 0.1489\n",
            "Epoch 71/200\n",
            "10/10 [==============================] - 0s 3ms/step - loss: 2.1929 - accuracy: 0.1489\n",
            "Epoch 72/200\n",
            "10/10 [==============================] - 0s 2ms/step - loss: 2.1948 - accuracy: 0.1489\n",
            "Epoch 73/200\n",
            "10/10 [==============================] - 0s 2ms/step - loss: 2.1930 - accuracy: 0.1489\n",
            "Epoch 74/200\n",
            "10/10 [==============================] - 0s 3ms/step - loss: 2.1925 - accuracy: 0.1489\n",
            "Epoch 75/200\n",
            "10/10 [==============================] - 0s 2ms/step - loss: 2.1931 - accuracy: 0.1489\n",
            "Epoch 76/200\n",
            "10/10 [==============================] - 0s 3ms/step - loss: 2.1933 - accuracy: 0.1489\n",
            "Epoch 77/200\n",
            "10/10 [==============================] - 0s 2ms/step - loss: 2.1945 - accuracy: 0.1489\n",
            "Epoch 78/200\n",
            "10/10 [==============================] - 0s 3ms/step - loss: 2.1934 - accuracy: 0.1489\n",
            "Epoch 79/200\n",
            "10/10 [==============================] - 0s 3ms/step - loss: 2.1946 - accuracy: 0.1489\n",
            "Epoch 80/200\n",
            "10/10 [==============================] - 0s 2ms/step - loss: 2.1941 - accuracy: 0.1489\n",
            "Epoch 81/200\n",
            "10/10 [==============================] - 0s 3ms/step - loss: 2.1946 - accuracy: 0.1489\n",
            "Epoch 82/200\n",
            "10/10 [==============================] - 0s 2ms/step - loss: 2.1942 - accuracy: 0.1489\n",
            "Epoch 83/200\n",
            "10/10 [==============================] - 0s 2ms/step - loss: 2.1941 - accuracy: 0.1489\n",
            "Epoch 84/200\n",
            "10/10 [==============================] - 0s 3ms/step - loss: 2.1943 - accuracy: 0.1489\n",
            "Epoch 85/200\n",
            "10/10 [==============================] - 0s 3ms/step - loss: 2.1953 - accuracy: 0.1489\n",
            "Epoch 86/200\n",
            "10/10 [==============================] - 0s 3ms/step - loss: 2.1929 - accuracy: 0.1489\n",
            "Epoch 87/200\n",
            "10/10 [==============================] - 0s 2ms/step - loss: 2.1943 - accuracy: 0.1489\n",
            "Epoch 88/200\n",
            "10/10 [==============================] - 0s 4ms/step - loss: 2.1947 - accuracy: 0.1489\n",
            "Epoch 89/200\n",
            "10/10 [==============================] - 0s 3ms/step - loss: 2.1954 - accuracy: 0.1489\n",
            "Epoch 90/200\n",
            "10/10 [==============================] - 0s 2ms/step - loss: 2.1948 - accuracy: 0.1489\n",
            "Epoch 91/200\n",
            "10/10 [==============================] - 0s 3ms/step - loss: 2.1941 - accuracy: 0.1489\n",
            "Epoch 92/200\n",
            "10/10 [==============================] - 0s 2ms/step - loss: 2.1954 - accuracy: 0.1489\n",
            "Epoch 93/200\n",
            "10/10 [==============================] - 0s 2ms/step - loss: 2.1943 - accuracy: 0.1489\n",
            "Epoch 94/200\n",
            "10/10 [==============================] - 0s 2ms/step - loss: 2.1943 - accuracy: 0.1489\n",
            "Epoch 95/200\n",
            "10/10 [==============================] - 0s 3ms/step - loss: 2.1943 - accuracy: 0.1489\n",
            "Epoch 96/200\n",
            "10/10 [==============================] - 0s 3ms/step - loss: 2.1931 - accuracy: 0.1489\n",
            "Epoch 97/200\n",
            "10/10 [==============================] - 0s 3ms/step - loss: 2.1942 - accuracy: 0.1489\n",
            "Epoch 98/200\n",
            "10/10 [==============================] - 0s 2ms/step - loss: 2.1932 - accuracy: 0.1489\n",
            "Epoch 99/200\n",
            "10/10 [==============================] - 0s 2ms/step - loss: 2.1938 - accuracy: 0.1489\n",
            "Epoch 100/200\n",
            "10/10 [==============================] - 0s 3ms/step - loss: 2.1933 - accuracy: 0.1489\n",
            "Epoch 101/200\n",
            "10/10 [==============================] - 0s 2ms/step - loss: 2.1945 - accuracy: 0.1489\n",
            "Epoch 102/200\n",
            "10/10 [==============================] - 0s 3ms/step - loss: 2.1935 - accuracy: 0.1489\n",
            "Epoch 103/200\n",
            "10/10 [==============================] - 0s 3ms/step - loss: 2.1940 - accuracy: 0.1489\n",
            "Epoch 104/200\n",
            "10/10 [==============================] - 0s 2ms/step - loss: 2.1928 - accuracy: 0.1489\n",
            "Epoch 105/200\n",
            "10/10 [==============================] - 0s 2ms/step - loss: 2.1943 - accuracy: 0.1489\n",
            "Epoch 106/200\n",
            "10/10 [==============================] - 0s 2ms/step - loss: 2.1939 - accuracy: 0.1489\n",
            "Epoch 107/200\n",
            "10/10 [==============================] - 0s 3ms/step - loss: 2.1936 - accuracy: 0.1489\n",
            "Epoch 108/200\n",
            "10/10 [==============================] - 0s 2ms/step - loss: 2.1934 - accuracy: 0.1489\n",
            "Epoch 109/200\n",
            "10/10 [==============================] - 0s 2ms/step - loss: 2.1941 - accuracy: 0.1489\n",
            "Epoch 110/200\n",
            "10/10 [==============================] - 0s 3ms/step - loss: 2.1950 - accuracy: 0.1489\n",
            "Epoch 111/200\n",
            "10/10 [==============================] - 0s 4ms/step - loss: 2.1934 - accuracy: 0.1489\n",
            "Epoch 112/200\n",
            "10/10 [==============================] - 0s 2ms/step - loss: 2.1930 - accuracy: 0.1489\n",
            "Epoch 113/200\n",
            "10/10 [==============================] - 0s 2ms/step - loss: 2.1944 - accuracy: 0.1489\n",
            "Epoch 114/200\n",
            "10/10 [==============================] - 0s 2ms/step - loss: 2.1947 - accuracy: 0.1489\n",
            "Epoch 115/200\n",
            "10/10 [==============================] - 0s 2ms/step - loss: 2.1935 - accuracy: 0.1489\n",
            "Epoch 116/200\n",
            "10/10 [==============================] - 0s 4ms/step - loss: 2.1938 - accuracy: 0.1489\n",
            "Epoch 117/200\n",
            "10/10 [==============================] - 0s 3ms/step - loss: 2.1943 - accuracy: 0.1489\n",
            "Epoch 118/200\n",
            "10/10 [==============================] - 0s 3ms/step - loss: 2.1946 - accuracy: 0.1489\n",
            "Epoch 119/200\n",
            "10/10 [==============================] - 0s 3ms/step - loss: 2.1937 - accuracy: 0.1489\n",
            "Epoch 120/200\n",
            "10/10 [==============================] - 0s 2ms/step - loss: 2.1948 - accuracy: 0.1489\n",
            "Epoch 121/200\n",
            "10/10 [==============================] - 0s 3ms/step - loss: 2.1932 - accuracy: 0.1489\n",
            "Epoch 122/200\n",
            "10/10 [==============================] - 0s 2ms/step - loss: 2.1939 - accuracy: 0.1489\n",
            "Epoch 123/200\n",
            "10/10 [==============================] - 0s 2ms/step - loss: 2.1931 - accuracy: 0.1489\n",
            "Epoch 124/200\n",
            "10/10 [==============================] - 0s 2ms/step - loss: 2.1929 - accuracy: 0.1489\n",
            "Epoch 125/200\n",
            "10/10 [==============================] - 0s 2ms/step - loss: 2.1938 - accuracy: 0.1489\n",
            "Epoch 126/200\n",
            "10/10 [==============================] - 0s 3ms/step - loss: 2.1946 - accuracy: 0.1489\n",
            "Epoch 127/200\n",
            "10/10 [==============================] - 0s 3ms/step - loss: 2.1941 - accuracy: 0.1489\n",
            "Epoch 128/200\n",
            "10/10 [==============================] - 0s 2ms/step - loss: 2.1937 - accuracy: 0.1489\n",
            "Epoch 129/200\n",
            "10/10 [==============================] - 0s 2ms/step - loss: 2.1930 - accuracy: 0.1489\n",
            "Epoch 130/200\n",
            "10/10 [==============================] - 0s 3ms/step - loss: 2.1927 - accuracy: 0.1489\n",
            "Epoch 131/200\n",
            "10/10 [==============================] - 0s 3ms/step - loss: 2.1941 - accuracy: 0.1489\n",
            "Epoch 132/200\n",
            "10/10 [==============================] - 0s 2ms/step - loss: 2.1939 - accuracy: 0.1489\n",
            "Epoch 133/200\n",
            "10/10 [==============================] - 0s 3ms/step - loss: 2.1952 - accuracy: 0.1489\n",
            "Epoch 134/200\n",
            "10/10 [==============================] - 0s 2ms/step - loss: 2.1933 - accuracy: 0.1489\n",
            "Epoch 135/200\n",
            "10/10 [==============================] - 0s 2ms/step - loss: 2.1933 - accuracy: 0.1489\n",
            "Epoch 136/200\n",
            "10/10 [==============================] - 0s 3ms/step - loss: 2.1949 - accuracy: 0.1489\n",
            "Epoch 137/200\n",
            "10/10 [==============================] - 0s 2ms/step - loss: 2.1928 - accuracy: 0.1489\n",
            "Epoch 138/200\n",
            "10/10 [==============================] - 0s 3ms/step - loss: 2.1943 - accuracy: 0.1489\n",
            "Epoch 139/200\n",
            "10/10 [==============================] - 0s 2ms/step - loss: 2.1957 - accuracy: 0.1489\n",
            "Epoch 140/200\n",
            "10/10 [==============================] - 0s 2ms/step - loss: 2.1972 - accuracy: 0.1489\n",
            "Epoch 141/200\n",
            "10/10 [==============================] - 0s 3ms/step - loss: 2.1960 - accuracy: 0.1489\n",
            "Epoch 142/200\n",
            "10/10 [==============================] - 0s 3ms/step - loss: 2.1947 - accuracy: 0.1489\n",
            "Epoch 143/200\n",
            "10/10 [==============================] - 0s 2ms/step - loss: 2.1938 - accuracy: 0.1489\n",
            "Epoch 144/200\n",
            "10/10 [==============================] - 0s 2ms/step - loss: 2.1945 - accuracy: 0.1489\n",
            "Epoch 145/200\n",
            "10/10 [==============================] - 0s 3ms/step - loss: 2.1948 - accuracy: 0.1489\n",
            "Epoch 146/200\n",
            "10/10 [==============================] - 0s 2ms/step - loss: 2.1936 - accuracy: 0.1489\n",
            "Epoch 147/200\n",
            "10/10 [==============================] - 0s 2ms/step - loss: 2.1934 - accuracy: 0.1489\n",
            "Epoch 148/200\n",
            "10/10 [==============================] - 0s 3ms/step - loss: 2.1929 - accuracy: 0.1489\n",
            "Epoch 149/200\n",
            "10/10 [==============================] - 0s 3ms/step - loss: 2.1934 - accuracy: 0.1489\n",
            "Epoch 150/200\n",
            "10/10 [==============================] - 0s 2ms/step - loss: 2.1949 - accuracy: 0.1489\n",
            "Epoch 151/200\n",
            "10/10 [==============================] - 0s 2ms/step - loss: 2.1938 - accuracy: 0.1489\n",
            "Epoch 152/200\n",
            "10/10 [==============================] - 0s 3ms/step - loss: 2.1941 - accuracy: 0.1489\n",
            "Epoch 153/200\n",
            "10/10 [==============================] - 0s 3ms/step - loss: 2.1936 - accuracy: 0.1489\n",
            "Epoch 154/200\n",
            "10/10 [==============================] - 0s 2ms/step - loss: 2.1951 - accuracy: 0.1489\n",
            "Epoch 155/200\n",
            "10/10 [==============================] - 0s 3ms/step - loss: 2.1943 - accuracy: 0.1489\n",
            "Epoch 156/200\n",
            "10/10 [==============================] - 0s 3ms/step - loss: 2.1952 - accuracy: 0.1489\n",
            "Epoch 157/200\n",
            "10/10 [==============================] - 0s 2ms/step - loss: 2.1941 - accuracy: 0.1489\n",
            "Epoch 158/200\n",
            "10/10 [==============================] - 0s 4ms/step - loss: 2.1932 - accuracy: 0.1489\n",
            "Epoch 159/200\n",
            "10/10 [==============================] - 0s 2ms/step - loss: 2.1946 - accuracy: 0.1489\n",
            "Epoch 160/200\n",
            "10/10 [==============================] - 0s 2ms/step - loss: 2.1939 - accuracy: 0.1489\n",
            "Epoch 161/200\n",
            "10/10 [==============================] - 0s 3ms/step - loss: 2.1953 - accuracy: 0.1489\n",
            "Epoch 162/200\n",
            "10/10 [==============================] - 0s 3ms/step - loss: 2.1936 - accuracy: 0.1489\n",
            "Epoch 163/200\n",
            "10/10 [==============================] - 0s 2ms/step - loss: 2.1945 - accuracy: 0.1489\n",
            "Epoch 164/200\n",
            "10/10 [==============================] - 0s 3ms/step - loss: 2.1940 - accuracy: 0.1489\n",
            "Epoch 165/200\n",
            "10/10 [==============================] - 0s 2ms/step - loss: 2.1938 - accuracy: 0.1489\n",
            "Epoch 166/200\n",
            "10/10 [==============================] - 0s 3ms/step - loss: 2.1947 - accuracy: 0.1489\n",
            "Epoch 167/200\n",
            "10/10 [==============================] - 0s 2ms/step - loss: 2.1933 - accuracy: 0.1489\n",
            "Epoch 168/200\n",
            "10/10 [==============================] - 0s 2ms/step - loss: 2.1941 - accuracy: 0.1489\n",
            "Epoch 169/200\n",
            "10/10 [==============================] - 0s 2ms/step - loss: 2.1936 - accuracy: 0.1489\n",
            "Epoch 170/200\n",
            "10/10 [==============================] - 0s 2ms/step - loss: 2.1955 - accuracy: 0.1489\n",
            "Epoch 171/200\n",
            "10/10 [==============================] - 0s 3ms/step - loss: 2.1940 - accuracy: 0.1489\n",
            "Epoch 172/200\n",
            "10/10 [==============================] - 0s 2ms/step - loss: 2.1942 - accuracy: 0.1489\n",
            "Epoch 173/200\n",
            "10/10 [==============================] - 0s 2ms/step - loss: 2.1944 - accuracy: 0.1489\n",
            "Epoch 174/200\n",
            "10/10 [==============================] - 0s 3ms/step - loss: 2.1934 - accuracy: 0.1489\n",
            "Epoch 175/200\n",
            "10/10 [==============================] - 0s 3ms/step - loss: 2.1945 - accuracy: 0.1489\n",
            "Epoch 176/200\n",
            "10/10 [==============================] - 0s 3ms/step - loss: 2.1940 - accuracy: 0.1489\n",
            "Epoch 177/200\n",
            "10/10 [==============================] - 0s 3ms/step - loss: 2.1933 - accuracy: 0.1489\n",
            "Epoch 178/200\n",
            "10/10 [==============================] - 0s 3ms/step - loss: 2.1943 - accuracy: 0.1489\n",
            "Epoch 179/200\n",
            "10/10 [==============================] - 0s 2ms/step - loss: 2.1941 - accuracy: 0.1489\n",
            "Epoch 180/200\n",
            "10/10 [==============================] - 0s 2ms/step - loss: 2.1937 - accuracy: 0.1489\n",
            "Epoch 181/200\n",
            "10/10 [==============================] - 0s 2ms/step - loss: 2.1937 - accuracy: 0.1489\n",
            "Epoch 182/200\n",
            "10/10 [==============================] - 0s 2ms/step - loss: 2.1955 - accuracy: 0.1489\n",
            "Epoch 183/200\n",
            "10/10 [==============================] - 0s 2ms/step - loss: 2.1950 - accuracy: 0.1489\n",
            "Epoch 184/200\n",
            "10/10 [==============================] - 0s 2ms/step - loss: 2.1938 - accuracy: 0.1489\n",
            "Epoch 185/200\n",
            "10/10 [==============================] - 0s 2ms/step - loss: 2.1925 - accuracy: 0.1489\n",
            "Epoch 186/200\n",
            "10/10 [==============================] - 0s 3ms/step - loss: 2.1950 - accuracy: 0.1489\n",
            "Epoch 187/200\n",
            "10/10 [==============================] - 0s 3ms/step - loss: 2.1948 - accuracy: 0.1489\n",
            "Epoch 188/200\n",
            "10/10 [==============================] - 0s 2ms/step - loss: 2.1930 - accuracy: 0.1489\n",
            "Epoch 189/200\n",
            "10/10 [==============================] - 0s 3ms/step - loss: 2.1928 - accuracy: 0.1489\n",
            "Epoch 190/200\n",
            "10/10 [==============================] - 0s 3ms/step - loss: 2.1929 - accuracy: 0.1489\n",
            "Epoch 191/200\n",
            "10/10 [==============================] - 0s 3ms/step - loss: 2.1936 - accuracy: 0.1489\n",
            "Epoch 192/200\n",
            "10/10 [==============================] - 0s 3ms/step - loss: 2.1930 - accuracy: 0.1489\n",
            "Epoch 193/200\n",
            "10/10 [==============================] - 0s 2ms/step - loss: 2.1931 - accuracy: 0.1489\n",
            "Epoch 194/200\n",
            "10/10 [==============================] - 0s 2ms/step - loss: 2.1948 - accuracy: 0.1489\n",
            "Epoch 195/200\n",
            "10/10 [==============================] - 0s 3ms/step - loss: 2.1935 - accuracy: 0.1489\n",
            "Epoch 196/200\n",
            "10/10 [==============================] - 0s 2ms/step - loss: 2.1944 - accuracy: 0.1489\n",
            "Epoch 197/200\n",
            "10/10 [==============================] - 0s 2ms/step - loss: 2.1960 - accuracy: 0.1489\n",
            "Epoch 198/200\n",
            "10/10 [==============================] - 0s 2ms/step - loss: 2.1940 - accuracy: 0.1489\n",
            "Epoch 199/200\n",
            "10/10 [==============================] - 0s 2ms/step - loss: 2.1939 - accuracy: 0.1489\n",
            "Epoch 200/200\n",
            "10/10 [==============================] - 0s 2ms/step - loss: 2.1944 - accuracy: 0.1489\n"
          ]
        }
      ]
    },
    {
      "cell_type": "code",
      "source": [
        "print(len(train_x[0]))\n",
        "model.predict(train_x)"
      ],
      "metadata": {
        "colab": {
          "base_uri": "https://localhost:8080/"
        },
        "id": "WU4w-5XGAWXj",
        "outputId": "45bcea12-039e-4406-ead2-951ba1d6ce2c"
      },
      "execution_count": 41,
      "outputs": [
        {
          "output_type": "stream",
          "name": "stdout",
          "text": [
            "89\n"
          ]
        },
        {
          "output_type": "execute_result",
          "data": {
            "text/plain": [
              "array([[0.10230201, 0.10991442, 0.10886461, 0.10004076, 0.15063603,\n",
              "        0.10775061, 0.10942782, 0.10485572, 0.10620794],\n",
              "       [0.10230201, 0.10991442, 0.10886461, 0.10004076, 0.15063603,\n",
              "        0.10775061, 0.10942782, 0.10485572, 0.10620794],\n",
              "       [0.10230201, 0.10991442, 0.10886461, 0.10004076, 0.15063603,\n",
              "        0.10775061, 0.10942782, 0.10485572, 0.10620794],\n",
              "       [0.10230201, 0.10991442, 0.10886461, 0.10004076, 0.15063603,\n",
              "        0.10775061, 0.10942782, 0.10485572, 0.10620794],\n",
              "       [0.10230201, 0.10991442, 0.10886461, 0.10004076, 0.15063603,\n",
              "        0.10775061, 0.10942782, 0.10485572, 0.10620794],\n",
              "       [0.10230201, 0.10991442, 0.10886461, 0.10004076, 0.15063603,\n",
              "        0.10775061, 0.10942782, 0.10485572, 0.10620794],\n",
              "       [0.10230201, 0.10991442, 0.10886461, 0.10004076, 0.15063603,\n",
              "        0.10775061, 0.10942782, 0.10485572, 0.10620794],\n",
              "       [0.10230201, 0.10991442, 0.10886461, 0.10004076, 0.15063603,\n",
              "        0.10775061, 0.10942782, 0.10485572, 0.10620794],\n",
              "       [0.10230201, 0.10991442, 0.10886461, 0.10004076, 0.15063603,\n",
              "        0.10775061, 0.10942782, 0.10485572, 0.10620794],\n",
              "       [0.10230201, 0.10991442, 0.10886461, 0.10004076, 0.15063603,\n",
              "        0.10775061, 0.10942782, 0.10485572, 0.10620794],\n",
              "       [0.10230201, 0.10991442, 0.10886461, 0.10004076, 0.15063603,\n",
              "        0.10775061, 0.10942782, 0.10485572, 0.10620794],\n",
              "       [0.10230201, 0.10991442, 0.10886461, 0.10004076, 0.15063603,\n",
              "        0.10775061, 0.10942782, 0.10485572, 0.10620794],\n",
              "       [0.10230201, 0.10991442, 0.10886461, 0.10004076, 0.15063603,\n",
              "        0.10775061, 0.10942782, 0.10485572, 0.10620794],\n",
              "       [0.10230201, 0.10991442, 0.10886461, 0.10004076, 0.15063603,\n",
              "        0.10775061, 0.10942782, 0.10485572, 0.10620794],\n",
              "       [0.10230201, 0.10991442, 0.10886461, 0.10004076, 0.15063603,\n",
              "        0.10775061, 0.10942782, 0.10485572, 0.10620794],\n",
              "       [0.10230201, 0.10991442, 0.10886461, 0.10004076, 0.15063603,\n",
              "        0.10775061, 0.10942782, 0.10485572, 0.10620794],\n",
              "       [0.10230201, 0.10991442, 0.10886461, 0.10004076, 0.15063603,\n",
              "        0.10775061, 0.10942782, 0.10485572, 0.10620794],\n",
              "       [0.10230201, 0.10991442, 0.10886461, 0.10004076, 0.15063603,\n",
              "        0.10775061, 0.10942782, 0.10485572, 0.10620794],\n",
              "       [0.10230201, 0.10991442, 0.10886461, 0.10004076, 0.15063603,\n",
              "        0.10775061, 0.10942782, 0.10485572, 0.10620794],\n",
              "       [0.10230201, 0.10991442, 0.10886461, 0.10004076, 0.15063603,\n",
              "        0.10775061, 0.10942782, 0.10485572, 0.10620794],\n",
              "       [0.10230201, 0.10991442, 0.10886461, 0.10004076, 0.15063603,\n",
              "        0.10775061, 0.10942782, 0.10485572, 0.10620794],\n",
              "       [0.10230201, 0.10991442, 0.10886461, 0.10004076, 0.15063603,\n",
              "        0.10775061, 0.10942782, 0.10485572, 0.10620794],\n",
              "       [0.10230201, 0.10991442, 0.10886461, 0.10004076, 0.15063603,\n",
              "        0.10775061, 0.10942782, 0.10485572, 0.10620794],\n",
              "       [0.10230201, 0.10991442, 0.10886461, 0.10004076, 0.15063603,\n",
              "        0.10775061, 0.10942782, 0.10485572, 0.10620794],\n",
              "       [0.10230201, 0.10991442, 0.10886461, 0.10004076, 0.15063603,\n",
              "        0.10775061, 0.10942782, 0.10485572, 0.10620794],\n",
              "       [0.10230201, 0.10991442, 0.10886461, 0.10004076, 0.15063603,\n",
              "        0.10775061, 0.10942782, 0.10485572, 0.10620794],\n",
              "       [0.10230201, 0.10991442, 0.10886461, 0.10004076, 0.15063603,\n",
              "        0.10775061, 0.10942782, 0.10485572, 0.10620794],\n",
              "       [0.10230201, 0.10991442, 0.10886461, 0.10004076, 0.15063603,\n",
              "        0.10775061, 0.10942782, 0.10485572, 0.10620794],\n",
              "       [0.10230201, 0.10991442, 0.10886461, 0.10004076, 0.15063603,\n",
              "        0.10775061, 0.10942782, 0.10485572, 0.10620794],\n",
              "       [0.10230201, 0.10991442, 0.10886461, 0.10004076, 0.15063603,\n",
              "        0.10775061, 0.10942782, 0.10485572, 0.10620794],\n",
              "       [0.10230201, 0.10991442, 0.10886461, 0.10004076, 0.15063603,\n",
              "        0.10775061, 0.10942782, 0.10485572, 0.10620794],\n",
              "       [0.10230201, 0.10991442, 0.10886461, 0.10004076, 0.15063603,\n",
              "        0.10775061, 0.10942782, 0.10485572, 0.10620794],\n",
              "       [0.10230201, 0.10991442, 0.10886461, 0.10004076, 0.15063603,\n",
              "        0.10775061, 0.10942782, 0.10485572, 0.10620794],\n",
              "       [0.10230201, 0.10991442, 0.10886461, 0.10004076, 0.15063603,\n",
              "        0.10775061, 0.10942782, 0.10485572, 0.10620794],\n",
              "       [0.10230201, 0.10991442, 0.10886461, 0.10004076, 0.15063603,\n",
              "        0.10775061, 0.10942782, 0.10485572, 0.10620794],\n",
              "       [0.10230201, 0.10991442, 0.10886461, 0.10004076, 0.15063603,\n",
              "        0.10775061, 0.10942782, 0.10485572, 0.10620794],\n",
              "       [0.10230201, 0.10991442, 0.10886461, 0.10004076, 0.15063603,\n",
              "        0.10775061, 0.10942782, 0.10485572, 0.10620794],\n",
              "       [0.10230201, 0.10991442, 0.10886461, 0.10004076, 0.15063603,\n",
              "        0.10775061, 0.10942782, 0.10485572, 0.10620794],\n",
              "       [0.10230201, 0.10991442, 0.10886461, 0.10004076, 0.15063603,\n",
              "        0.10775061, 0.10942782, 0.10485572, 0.10620794],\n",
              "       [0.10230201, 0.10991442, 0.10886461, 0.10004076, 0.15063603,\n",
              "        0.10775061, 0.10942782, 0.10485572, 0.10620794],\n",
              "       [0.10230201, 0.10991442, 0.10886461, 0.10004076, 0.15063603,\n",
              "        0.10775061, 0.10942782, 0.10485572, 0.10620794],\n",
              "       [0.10230201, 0.10991442, 0.10886461, 0.10004076, 0.15063603,\n",
              "        0.10775061, 0.10942782, 0.10485572, 0.10620794],\n",
              "       [0.10230201, 0.10991442, 0.10886461, 0.10004076, 0.15063603,\n",
              "        0.10775061, 0.10942782, 0.10485572, 0.10620794],\n",
              "       [0.10230201, 0.10991442, 0.10886461, 0.10004076, 0.15063603,\n",
              "        0.10775061, 0.10942782, 0.10485572, 0.10620794],\n",
              "       [0.10230201, 0.10991442, 0.10886461, 0.10004076, 0.15063603,\n",
              "        0.10775061, 0.10942782, 0.10485572, 0.10620794],\n",
              "       [0.10230201, 0.10991442, 0.10886461, 0.10004076, 0.15063603,\n",
              "        0.10775061, 0.10942782, 0.10485572, 0.10620794],\n",
              "       [0.10230201, 0.10991442, 0.10886461, 0.10004076, 0.15063603,\n",
              "        0.10775061, 0.10942782, 0.10485572, 0.10620794]], dtype=float32)"
            ]
          },
          "metadata": {},
          "execution_count": 41
        }
      ]
    },
    {
      "cell_type": "code",
      "source": [
        "model.save(\"chatbot_model_test.h5\", hist)"
      ],
      "metadata": {
        "id": "uOkt2c2aSi_K"
      },
      "execution_count": 33,
      "outputs": []
    },
    {
      "cell_type": "markdown",
      "source": [
        "# Utlizing the model"
      ],
      "metadata": {
        "id": "IMcFeo3fTQde"
      }
    },
    {
      "cell_type": "code",
      "source": [
        "from keras.models import load_model\n",
        "model = load_model('chatbot_model_test.h5')\n",
        "import json\n",
        "import random\n",
        "with urllib.request.urlopen(\"https://raw.githubusercontent.com/jerrytigerxu/Simple-Python-Chatbot/master/intents.json\") as url:\n",
        "    intents = json.loads(url.read().decode())\n",
        "words = pickle.load(open('words.pkl','rb'))\n",
        "classes = pickle.load(open('classes.pkl','rb'))"
      ],
      "metadata": {
        "id": "BleobzrgTVab"
      },
      "execution_count": 82,
      "outputs": []
    },
    {
      "cell_type": "code",
      "source": [
        "print(intents)"
      ],
      "metadata": {
        "colab": {
          "base_uri": "https://localhost:8080/"
        },
        "id": "TgPYzJZhTzpi",
        "outputId": "ee65abf7-7240-4455-dcc0-efb375984fda"
      },
      "execution_count": 83,
      "outputs": [
        {
          "output_type": "stream",
          "name": "stdout",
          "text": [
            "{'intents': [{'tag': 'greeting', 'patterns': ['Hi there', 'How are you', 'Is anyone there?', 'Hey', 'Hola', 'Hello', 'Good day'], 'responses': ['Hello, thanks for asking', 'Good to see you again', 'Hi there, how can I help?'], 'context': ['']}, {'tag': 'goodbye', 'patterns': ['Bye', 'See you later', 'Goodbye', 'Nice chatting to you, bye', 'Till next time'], 'responses': ['See you!', 'Have a nice day', 'Bye! Come back again soon.'], 'context': ['']}, {'tag': 'thanks', 'patterns': ['Thanks', 'Thank you', \"That's helpful\", 'Awesome, thanks', 'Thanks for helping me'], 'responses': ['Happy to help!', 'Any time!', 'My pleasure'], 'context': ['']}, {'tag': 'noanswer', 'patterns': [], 'responses': [\"Sorry, can't understand you\", 'Please give me more info', 'Not sure I understand'], 'context': ['']}, {'tag': 'options', 'patterns': ['How you could help me?', 'What you can do?', 'What help you provide?', 'How you can be helpful?', 'What support is offered'], 'responses': ['I can guide you through Adverse drug reaction list, Blood pressure tracking, Hospitals and Pharmacies', 'Offering support for Adverse drug reaction, Blood pressure, Hospitals and Pharmacies'], 'context': ['']}, {'tag': 'adverse_drug', 'patterns': ['How to check Adverse drug reaction?', 'Open adverse drugs module', 'Give me a list of drugs causing adverse behavior', 'List all drugs suitable for patient with adverse reaction', 'Which drugs dont have adverse reaction?'], 'responses': ['Navigating to Adverse drug reaction module'], 'context': ['']}, {'tag': 'blood_pressure', 'patterns': ['Open blood pressure module', 'Task related to blood pressure', 'Blood pressure data entry', 'I want to log blood pressure results', 'Blood pressure data management'], 'responses': ['Navigating to Blood Pressure module'], 'context': ['']}, {'tag': 'blood_pressure_search', 'patterns': ['I want to search for blood pressure result history', 'Blood pressure for patient', 'Load patient blood pressure result', 'Show blood pressure results for patient', 'Find blood pressure results by ID'], 'responses': ['Please provide Patient ID', 'Patient ID?'], 'context': ['search_blood_pressure_by_patient_id']}, {'tag': 'search_blood_pressure_by_patient_id', 'patterns': [], 'responses': ['Loading Blood pressure result for Patient'], 'context': ['']}, {'tag': 'pharmacy_search', 'patterns': ['Find me a pharmacy', 'Find pharmacy', 'List of pharmacies nearby', 'Locate pharmacy', 'Search pharmacy'], 'responses': ['Please provide pharmacy name'], 'context': ['search_pharmacy_by_name']}, {'tag': 'search_pharmacy_by_name', 'patterns': [], 'responses': ['Loading pharmacy details'], 'context': ['']}, {'tag': 'hospital_search', 'patterns': ['Lookup for hospital', 'Searching for hospital to transfer patient', 'I want to search hospital data', 'Hospital lookup for patient', 'Looking up hospital details'], 'responses': ['Please provide hospital name or location'], 'context': ['search_hospital_by_params']}, {'tag': 'search_hospital_by_params', 'patterns': [], 'responses': ['Please provide hospital type'], 'context': ['search_hospital_by_type']}, {'tag': 'search_hospital_by_type', 'patterns': [], 'responses': ['Loading hospital details'], 'context': ['']}]}\n"
          ]
        }
      ]
    },
    {
      "cell_type": "code",
      "source": [
        "# Cleans up the users response \n",
        "def clean_up_sentences(sentence):\n",
        "  sentence_words = nltk.word_tokenize(sentence)\n",
        "  sentence_words = [lemmatizer.lemmatize(word.lower()) for word in sentence_words]\n",
        "  return sentence_words"
      ],
      "metadata": {
        "id": "YPbpN4oHT-58"
      },
      "execution_count": 84,
      "outputs": []
    },
    {
      "cell_type": "code",
      "source": [
        "# Bag Of Words (bow)\n",
        "def bow(sentence, words, show_details = True):\n",
        "  # Tokenize the patterns \n",
        "  sentence_words = clean_up_sentences(sentence)\n",
        "  # Bag of words\n",
        "  bag = [0]*len(words)\n",
        "  for s in sentence_words: \n",
        "    for i,w in enumerate(words):\n",
        "      if w == s:\n",
        "        # Assigns 1 if the current word is in the vocab position \n",
        "        bag[i] = 1\n",
        "        #if show_details:\n",
        "          #print(\"found in bag: %s\" % w)\n",
        "  return np.array(bag)"
      ],
      "metadata": {
        "id": "gN7G9JIIUYQ6"
      },
      "execution_count": 111,
      "outputs": []
    },
    {
      "cell_type": "code",
      "source": [
        "def predict_class(sentence, model):\n",
        "  p = bow(sentence, words, show_details=False)\n",
        "  result = model.predict(np.array([p]))[0]\n",
        "  ERROR_THRESHOLD = 0.00  # Threshold to prevent overfitting \n",
        "  print(\"Model Prediction:\", result)\n",
        "\n",
        "  results = [[i,r] for i,r in enumerate(result) if r>ERROR_THRESHOLD]\n",
        "\n",
        "  results.sort(key=lambda x: x[1], reverse=True)\n",
        "  return_list = []\n",
        "\n",
        "  for r in results:\n",
        "    return_list.append({\"intent\": classes[r[0]], \"probability\": str(r[1])})\n",
        "  return return_list"
      ],
      "metadata": {
        "id": "NCQ5NhoRWXpR"
      },
      "execution_count": 112,
      "outputs": []
    },
    {
      "cell_type": "code",
      "source": [
        "def getResponse(ints, intents_json):\n",
        "  tag = ints[0][\"intent\"]\n",
        "  list_of_intents = intents_json[\"intents\"]\n",
        "  for i in list_of_intents:\n",
        "    if(i[\"tag\"] == tag):\n",
        "      result = random.choice(i[\"responses\"])\n",
        "      break\n",
        "  return result"
      ],
      "metadata": {
        "id": "XpkI6dCgYxT7"
      },
      "execution_count": 113,
      "outputs": []
    },
    {
      "cell_type": "code",
      "source": [
        "def chatbot_response(msg):\n",
        "  ints = predict_class(msg, model)\n",
        "  res = getResponse(ints, intents)\n",
        "  return res"
      ],
      "metadata": {
        "id": "xrlY-EnxZgh1"
      },
      "execution_count": 114,
      "outputs": []
    },
    {
      "cell_type": "code",
      "source": [
        "msg = input(\"This is a test....\")\n",
        "while(msg != \"exit\"):\n",
        "  msg = input(chatbot_response(msg) + \" \")  \n",
        "\n",
        "\n",
        "# STUCK ON ONLY USING GRETTING INTENT"
      ],
      "metadata": {
        "colab": {
          "base_uri": "https://localhost:8080/",
          "height": 640
        },
        "id": "xyRt8IczZs1w",
        "outputId": "b5bf2b5d-2e32-43e8-f314-5bdb661f4120"
      },
      "execution_count": 117,
      "outputs": [
        {
          "output_type": "stream",
          "name": "stdout",
          "text": [
            "This is a test....see you later!\n",
            "Model Prediction: [0.1318697  0.11191779 0.08319082 0.09792679 0.14274125 0.10543416\n",
            " 0.08918847 0.13954572 0.09818527]\n",
            "Good to see you again \n",
            "Model Prediction: [0.10230201 0.10991442 0.10886461 0.10004076 0.15063603 0.10775061\n",
            " 0.10942782 0.10485572 0.10620794]\n"
          ]
        },
        {
          "output_type": "error",
          "ename": "KeyboardInterrupt",
          "evalue": "ignored",
          "traceback": [
            "\u001b[0;31m---------------------------------------------------------------------------\u001b[0m",
            "\u001b[0;31mKeyboardInterrupt\u001b[0m                         Traceback (most recent call last)",
            "\u001b[0;32m/usr/local/lib/python3.7/dist-packages/ipykernel/kernelbase.py\u001b[0m in \u001b[0;36m_input_request\u001b[0;34m(self, prompt, ident, parent, password)\u001b[0m\n\u001b[1;32m    728\u001b[0m             \u001b[0;32mtry\u001b[0m\u001b[0;34m:\u001b[0m\u001b[0;34m\u001b[0m\u001b[0;34m\u001b[0m\u001b[0m\n\u001b[0;32m--> 729\u001b[0;31m                 \u001b[0mident\u001b[0m\u001b[0;34m,\u001b[0m \u001b[0mreply\u001b[0m \u001b[0;34m=\u001b[0m \u001b[0mself\u001b[0m\u001b[0;34m.\u001b[0m\u001b[0msession\u001b[0m\u001b[0;34m.\u001b[0m\u001b[0mrecv\u001b[0m\u001b[0;34m(\u001b[0m\u001b[0mself\u001b[0m\u001b[0;34m.\u001b[0m\u001b[0mstdin_socket\u001b[0m\u001b[0;34m,\u001b[0m \u001b[0;36m0\u001b[0m\u001b[0;34m)\u001b[0m\u001b[0;34m\u001b[0m\u001b[0;34m\u001b[0m\u001b[0m\n\u001b[0m\u001b[1;32m    730\u001b[0m             \u001b[0;32mexcept\u001b[0m \u001b[0mException\u001b[0m\u001b[0;34m:\u001b[0m\u001b[0;34m\u001b[0m\u001b[0;34m\u001b[0m\u001b[0m\n",
            "\u001b[0;32m/usr/local/lib/python3.7/dist-packages/jupyter_client/session.py\u001b[0m in \u001b[0;36mrecv\u001b[0;34m(self, socket, mode, content, copy)\u001b[0m\n\u001b[1;32m    802\u001b[0m         \u001b[0;32mtry\u001b[0m\u001b[0;34m:\u001b[0m\u001b[0;34m\u001b[0m\u001b[0;34m\u001b[0m\u001b[0m\n\u001b[0;32m--> 803\u001b[0;31m             \u001b[0mmsg_list\u001b[0m \u001b[0;34m=\u001b[0m \u001b[0msocket\u001b[0m\u001b[0;34m.\u001b[0m\u001b[0mrecv_multipart\u001b[0m\u001b[0;34m(\u001b[0m\u001b[0mmode\u001b[0m\u001b[0;34m,\u001b[0m \u001b[0mcopy\u001b[0m\u001b[0;34m=\u001b[0m\u001b[0mcopy\u001b[0m\u001b[0;34m)\u001b[0m\u001b[0;34m\u001b[0m\u001b[0;34m\u001b[0m\u001b[0m\n\u001b[0m\u001b[1;32m    804\u001b[0m         \u001b[0;32mexcept\u001b[0m \u001b[0mzmq\u001b[0m\u001b[0;34m.\u001b[0m\u001b[0mZMQError\u001b[0m \u001b[0;32mas\u001b[0m \u001b[0me\u001b[0m\u001b[0;34m:\u001b[0m\u001b[0;34m\u001b[0m\u001b[0;34m\u001b[0m\u001b[0m\n",
            "\u001b[0;32m/usr/local/lib/python3.7/dist-packages/zmq/sugar/socket.py\u001b[0m in \u001b[0;36mrecv_multipart\u001b[0;34m(self, flags, copy, track)\u001b[0m\n\u001b[1;32m    624\u001b[0m         \"\"\"\n\u001b[0;32m--> 625\u001b[0;31m         \u001b[0mparts\u001b[0m \u001b[0;34m=\u001b[0m \u001b[0;34m[\u001b[0m\u001b[0mself\u001b[0m\u001b[0;34m.\u001b[0m\u001b[0mrecv\u001b[0m\u001b[0;34m(\u001b[0m\u001b[0mflags\u001b[0m\u001b[0;34m,\u001b[0m \u001b[0mcopy\u001b[0m\u001b[0;34m=\u001b[0m\u001b[0mcopy\u001b[0m\u001b[0;34m,\u001b[0m \u001b[0mtrack\u001b[0m\u001b[0;34m=\u001b[0m\u001b[0mtrack\u001b[0m\u001b[0;34m)\u001b[0m\u001b[0;34m]\u001b[0m\u001b[0;34m\u001b[0m\u001b[0;34m\u001b[0m\u001b[0m\n\u001b[0m\u001b[1;32m    626\u001b[0m         \u001b[0;31m# have first part already, only loop while more to receive\u001b[0m\u001b[0;34m\u001b[0m\u001b[0;34m\u001b[0m\u001b[0;34m\u001b[0m\u001b[0m\n",
            "\u001b[0;32mzmq/backend/cython/socket.pyx\u001b[0m in \u001b[0;36mzmq.backend.cython.socket.Socket.recv\u001b[0;34m()\u001b[0m\n",
            "\u001b[0;32mzmq/backend/cython/socket.pyx\u001b[0m in \u001b[0;36mzmq.backend.cython.socket.Socket.recv\u001b[0;34m()\u001b[0m\n",
            "\u001b[0;32mzmq/backend/cython/socket.pyx\u001b[0m in \u001b[0;36mzmq.backend.cython.socket._recv_copy\u001b[0;34m()\u001b[0m\n",
            "\u001b[0;32m/usr/local/lib/python3.7/dist-packages/zmq/backend/cython/checkrc.pxd\u001b[0m in \u001b[0;36mzmq.backend.cython.checkrc._check_rc\u001b[0;34m()\u001b[0m\n",
            "\u001b[0;31mKeyboardInterrupt\u001b[0m: ",
            "\nDuring handling of the above exception, another exception occurred:\n",
            "\u001b[0;31mKeyboardInterrupt\u001b[0m                         Traceback (most recent call last)",
            "\u001b[0;32m<ipython-input-117-cb6fc9e7e00f>\u001b[0m in \u001b[0;36m<module>\u001b[0;34m()\u001b[0m\n\u001b[1;32m      1\u001b[0m \u001b[0mmsg\u001b[0m \u001b[0;34m=\u001b[0m \u001b[0minput\u001b[0m\u001b[0;34m(\u001b[0m\u001b[0;34m\"This is a test....\"\u001b[0m\u001b[0;34m)\u001b[0m\u001b[0;34m\u001b[0m\u001b[0;34m\u001b[0m\u001b[0m\n\u001b[1;32m      2\u001b[0m \u001b[0;32mwhile\u001b[0m\u001b[0;34m(\u001b[0m\u001b[0mmsg\u001b[0m \u001b[0;34m!=\u001b[0m \u001b[0;34m\"exit\"\u001b[0m\u001b[0;34m)\u001b[0m\u001b[0;34m:\u001b[0m\u001b[0;34m\u001b[0m\u001b[0;34m\u001b[0m\u001b[0m\n\u001b[0;32m----> 3\u001b[0;31m   \u001b[0mmsg\u001b[0m \u001b[0;34m=\u001b[0m \u001b[0minput\u001b[0m\u001b[0;34m(\u001b[0m\u001b[0mchatbot_response\u001b[0m\u001b[0;34m(\u001b[0m\u001b[0mmsg\u001b[0m\u001b[0;34m)\u001b[0m \u001b[0;34m+\u001b[0m \u001b[0;34m\" \"\u001b[0m\u001b[0;34m)\u001b[0m\u001b[0;34m\u001b[0m\u001b[0;34m\u001b[0m\u001b[0m\n\u001b[0m",
            "\u001b[0;32m/usr/local/lib/python3.7/dist-packages/ipykernel/kernelbase.py\u001b[0m in \u001b[0;36mraw_input\u001b[0;34m(self, prompt)\u001b[0m\n\u001b[1;32m    702\u001b[0m             \u001b[0mself\u001b[0m\u001b[0;34m.\u001b[0m\u001b[0m_parent_ident\u001b[0m\u001b[0;34m,\u001b[0m\u001b[0;34m\u001b[0m\u001b[0;34m\u001b[0m\u001b[0m\n\u001b[1;32m    703\u001b[0m             \u001b[0mself\u001b[0m\u001b[0;34m.\u001b[0m\u001b[0m_parent_header\u001b[0m\u001b[0;34m,\u001b[0m\u001b[0;34m\u001b[0m\u001b[0;34m\u001b[0m\u001b[0m\n\u001b[0;32m--> 704\u001b[0;31m             \u001b[0mpassword\u001b[0m\u001b[0;34m=\u001b[0m\u001b[0;32mFalse\u001b[0m\u001b[0;34m,\u001b[0m\u001b[0;34m\u001b[0m\u001b[0;34m\u001b[0m\u001b[0m\n\u001b[0m\u001b[1;32m    705\u001b[0m         )\n\u001b[1;32m    706\u001b[0m \u001b[0;34m\u001b[0m\u001b[0m\n",
            "\u001b[0;32m/usr/local/lib/python3.7/dist-packages/ipykernel/kernelbase.py\u001b[0m in \u001b[0;36m_input_request\u001b[0;34m(self, prompt, ident, parent, password)\u001b[0m\n\u001b[1;32m    732\u001b[0m             \u001b[0;32mexcept\u001b[0m \u001b[0mKeyboardInterrupt\u001b[0m\u001b[0;34m:\u001b[0m\u001b[0;34m\u001b[0m\u001b[0;34m\u001b[0m\u001b[0m\n\u001b[1;32m    733\u001b[0m                 \u001b[0;31m# re-raise KeyboardInterrupt, to truncate traceback\u001b[0m\u001b[0;34m\u001b[0m\u001b[0;34m\u001b[0m\u001b[0;34m\u001b[0m\u001b[0m\n\u001b[0;32m--> 734\u001b[0;31m                 \u001b[0;32mraise\u001b[0m \u001b[0mKeyboardInterrupt\u001b[0m\u001b[0;34m\u001b[0m\u001b[0;34m\u001b[0m\u001b[0m\n\u001b[0m\u001b[1;32m    735\u001b[0m             \u001b[0;32melse\u001b[0m\u001b[0;34m:\u001b[0m\u001b[0;34m\u001b[0m\u001b[0;34m\u001b[0m\u001b[0m\n\u001b[1;32m    736\u001b[0m                 \u001b[0;32mbreak\u001b[0m\u001b[0;34m\u001b[0m\u001b[0;34m\u001b[0m\u001b[0m\n",
            "\u001b[0;31mKeyboardInterrupt\u001b[0m: "
          ]
        }
      ]
    },
    {
      "cell_type": "code",
      "source": [
        ""
      ],
      "metadata": {
        "id": "DPX2iqudajJO"
      },
      "execution_count": null,
      "outputs": []
    }
  ]
}